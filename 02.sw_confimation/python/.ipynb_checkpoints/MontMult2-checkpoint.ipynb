{
 "cells": [
  {
   "cell_type": "code",
   "execution_count": 1,
   "id": "32364564",
   "metadata": {},
   "outputs": [],
   "source": [
    "bls = 1\n",
    "# p is max value of interger in prime field\n",
    "p = 0x1a0111ea397fe69a4b1ba7b6434bacd764774b84f38512bf6730d2a0f6b0f6241eabfffeb153ffffb9feffffffffaaab\n",
    "# r is max number of point in curve (curve order)\n",
    "r = 0x73eda753299d7d483339d80809a1d80553bda402fffe5bfeffffffff00000001\n",
    "# u is special number for BLS curve\n",
    "u = -0xd201000000010000\n",
    "\n",
    "R = 2**381\n",
    "montgomery_inv = pow(R, p-2, p)\n",
    "\n",
    "def mul(x, y):\n",
    "    return (x*y % p)*montgomery_inv % p\n",
    "\n",
    "def addFp2(a, b):\n",
    "    new_i = (a[0]+b[0]) % p\n",
    "    new_r = (a[1]+b[1]) % p\n",
    "    return [new_i, new_r]\n",
    "\n",
    "\n",
    "def subFp2(a, b):\n",
    "    new_i = (a[0]-b[0]) % p\n",
    "    new_r = (a[1]-b[1]) % p\n",
    "    return [new_i, new_r]\n",
    "\n",
    "\n",
    "def mulFp2(a, b):\n",
    "    new_r = (mul(a[1], b[1])-mul(a[0], b[0])) % p\n",
    "    new_i = (mul(a[0], b[1])+mul(a[1], b[0])) % p\n",
    "    return [new_i, new_r]"
   ]
  },
  {
   "cell_type": "code",
   "execution_count": 2,
   "id": "61f90822",
   "metadata": {},
   "outputs": [],
   "source": [
    "import random"
   ]
  },
  {
   "cell_type": "code",
   "execution_count": 8,
   "id": "c43785fa",
   "metadata": {},
   "outputs": [],
   "source": []
  },
  {
   "cell_type": "code",
   "execution_count": 12,
   "id": "71f11d7c",
   "metadata": {},
   "outputs": [
    {
     "name": "stdout",
     "output_type": "stream",
     "text": [
      "0X0D1082C2C462555A93D482F08E213D3A39A440A05FB1C3DB98F13A95CDD1453F1CA5C6C766C5CACFC2B9F06D329D93CE\n",
      "0X190A151BD5C7E1BE07BADADC61025FCE59F163CFA48C957FADAF50F6686010AB705038D7BA5419BC858E46ECB4C93748\n",
      "0X003E2638B23D23A5F5BDCFF17C05EEF3B500E4441AB94549676813D4B2893A6844D67CE57699A8905CEE5F26C7BF433B\n",
      "0X07070481E458BA038B7387F7F268789E77A128038DA66EE6DE528454BBFA445702E8B58FA9E2BEF77BC6B6948498EEBD\n",
      "Result\n",
      "0X0441EC3AF80AEF1022D06B44B98EDE71CC087224EB92EEADCE63BF6E61CBE63DA6F5BD54364165445CDD234EF7CA50EF\n",
      "0X09D244F00D1DCDD3A5A7DD6B8E17FFC667DA7FF55BB12DA2AC41DB08DE8405543E083F509213072FD2435FA13EFBCC81\n"
     ]
    }
   ],
   "source": [
    "a=[0,0]\n",
    "b=[0,0]\n",
    "a[0] = random.randint(0,p)\n",
    "a[1] = random.randint(0,p)\n",
    "b[0] = random.randint(0,p)\n",
    "b[1] = random.randint(0,p)\n",
    "print (\"{0:#0{1}X}\".format(a[0],98))\n",
    "print (\"{0:#0{1}X}\".format(a[1],98))\n",
    "print (\"{0:#0{1}X}\".format(b[0],98))\n",
    "print (\"{0:#0{1}X}\".format(b[1],98))\n",
    "print(\"Result\")\n",
    "print (\"{0:#0{1}X}\".format(mulFp2(a, b)[0],98))\n",
    "print (\"{0:#0{1}X}\".format(mulFp2(a, b)[1],98))"
   ]
  },
  {
   "cell_type": "code",
   "execution_count": 13,
   "id": "91a14b6e",
   "metadata": {},
   "outputs": [
    {
     "name": "stdout",
     "output_type": "stream",
     "text": [
      "0X10A8614B979B3C5B2EBDCC185B42A6F1EE2F33543C1724A0360227FD93F706BCDD637EE4ACB79FA738CA9FC5FE7EA898\n",
      "0X0199AB33DB36F3370FF0A109ED0731D6AA5CD52913F0BC6056DF917B2013941C0AE108E2E31CCC968375348525AF2210\n",
      "0X15F01E8996F2992F09BFF46D9CCB99EB9118F35F775D28B39A96AFA8185027BCA78A93D21CBA3D90431E789AA3D9D44B\n",
      "0X04A1E8695879B7D34CBE0015B481ABF67FE9917C83E5CCCC306E344AD549F67D4D963EF4FFF3FE2C248927AD1A8A27A1\n",
      "Result\n",
      "0X18E4C1C05FCC41BE3E2345C38EE14CF9128AF7B23A81AAB191442CFE21AC56A0B3B5247B67AC7C806C3D0238EA198BA9\n",
      "0X0D5DD16B65B9D16049359A26C41E69BCE5B3B323F45D192DC8CC67177E94A63C1ACBD4E66BB8D8ACCAE5CC0A96435333\n"
     ]
    }
   ],
   "source": [
    "a=[0,0]\n",
    "b=[0,0]\n",
    "a[0] = random.randint(0,p)\n",
    "a[1] = random.randint(0,p)\n",
    "b[0] = random.randint(0,p)\n",
    "b[1] = random.randint(0,p)\n",
    "print (\"{0:#0{1}X}\".format(a[0],98))\n",
    "print (\"{0:#0{1}X}\".format(a[1],98))\n",
    "print (\"{0:#0{1}X}\".format(b[0],98))\n",
    "print (\"{0:#0{1}X}\".format(b[1],98))\n",
    "print(\"Result\")\n",
    "print (\"{0:#0{1}X}\".format(mulFp2(a, b)[0],98))\n",
    "print (\"{0:#0{1}X}\".format(mulFp2(a, b)[1],98))"
   ]
  },
  {
   "cell_type": "code",
   "execution_count": 14,
   "id": "e51ec306",
   "metadata": {},
   "outputs": [
    {
     "name": "stdout",
     "output_type": "stream",
     "text": [
      "0X19D8635DE9188DC9AEB4EE325A912FF04739815D3C2B064ED75ABA80AFB26222E38432A3E11405698A1BE2E0FD00A439\n",
      "0X051D7C936B04CA9ED3BA7B8373670B964AFC9874AEE4756ABFA53E736D6E1833152AE3804C4905CAD1245F0FCF95A44E\n",
      "0X104A18B7F113441F52D73B935D51616DB6415B28C2524B67296BDB27196059C80138DB6D6993A8134AA9A92B22DD0A80\n",
      "0X13EE42B924659222924B3D5CAB9BB9633904030E5FD18EF51E2907B746FB4739F6E63C6BF2D321F57E38040089AB98D9\n",
      "Result\n",
      "0X00A2026B57A84467CB4FD602299267A4BE0563F7FD363F44E2615508B0A1C04DB2A6126884B08FBC627318381DB35F61\n",
      "0X12792A9918DE8C8BA2E3041973AFC87166BF39315D894C6D4693F2C90C092C24772209CB1A439B76C4D812E3386327F4\n"
     ]
    }
   ],
   "source": [
    "a=[0,0]\n",
    "b=[0,0]\n",
    "a[0] = random.randint(0,p)\n",
    "a[1] = random.randint(0,p)\n",
    "b[0] = random.randint(0,p)\n",
    "b[1] = random.randint(0,p)\n",
    "print (\"{0:#0{1}X}\".format(a[0],98))\n",
    "print (\"{0:#0{1}X}\".format(a[1],98))\n",
    "print (\"{0:#0{1}X}\".format(b[0],98))\n",
    "print (\"{0:#0{1}X}\".format(b[1],98))\n",
    "print(\"Result\")\n",
    "print (\"{0:#0{1}X}\".format(mulFp2(a, b)[0],98))\n",
    "print (\"{0:#0{1}X}\".format(mulFp2(a, b)[1],98))"
   ]
  },
  {
   "cell_type": "code",
   "execution_count": null,
   "id": "918c18de",
   "metadata": {},
   "outputs": [],
   "source": []
  }
 ],
 "metadata": {
  "kernelspec": {
   "display_name": "Python 3",
   "language": "python",
   "name": "python3"
  },
  "language_info": {
   "codemirror_mode": {
    "name": "ipython",
    "version": 3
   },
   "file_extension": ".py",
   "mimetype": "text/x-python",
   "name": "python",
   "nbconvert_exporter": "python",
   "pygments_lexer": "ipython3",
   "version": "3.6.8"
  }
 },
 "nbformat": 4,
 "nbformat_minor": 5
}
