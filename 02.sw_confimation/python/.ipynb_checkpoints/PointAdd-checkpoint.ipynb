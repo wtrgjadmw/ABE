{
 "cells": [
  {
   "cell_type": "code",
   "execution_count": 18,
   "id": "e0a3db2b",
   "metadata": {},
   "outputs": [],
   "source": [
    "bls = 1\n",
    "# p is max value of interger in prime field\n",
    "p = 0x1a0111ea397fe69a4b1ba7b6434bacd764774b84f38512bf6730d2a0f6b0f6241eabfffeb153ffffb9feffffffffaaab\n",
    "# r is max number of point in curve (curve order)\n",
    "r = 0x73eda753299d7d483339d80809a1d80553bda402fffe5bfeffffffff00000001\n",
    "# u is special number for BLS curve\n",
    "u = -0xd201000000010000\n",
    "\n",
    "R = 2**381\n",
    "montgomery_inv = pow(R, p-2, p)\n",
    "\n",
    "def mul(x, y):\n",
    "    return (x*y % p)*montgomery_inv % p\n",
    "\n",
    "def addFp2(a, b):\n",
    "    new_i = (a[0]+b[0]) % p\n",
    "    new_r = (a[1]+b[1]) % p\n",
    "    return [new_i, new_r]\n",
    "\n",
    "def subFp2(a, b):\n",
    "    new_i = (a[0]-b[0]) % p\n",
    "    new_r = (a[1]-b[1]) % p\n",
    "    return [new_i, new_r]\n",
    "\n",
    "def mulFp2(a, b):\n",
    "    new_r = (mul(a[1], b[1])-mul(a[0], b[0])) % p\n",
    "    new_i = (mul(a[0], b[1])+mul(a[1], b[0])) % p\n",
    "    return [new_i, new_r]\n",
    "\n",
    "def point_add(P, Q):\n",
    "    xp = P[0]\n",
    "    yp = P[1]\n",
    "    zp = P[2]\n",
    "    xq = Q[0]\n",
    "    yq = Q[1]\n",
    "    zq = Q[2]\n",
    "    t0 = mulFp2(yp, zq)\n",
    "    t1 = mulFp2(xp, zq)\n",
    "    t2 = mulFp2(zp, zq)\n",
    "    t3 = mulFp2(yq, zp)\n",
    "    t4 = subFp2(t3, t0)\n",
    "    t5 = mulFp2(t4, t4)\n",
    "    t6 = mulFp2(xq, zp)\n",
    "    t7 = subFp2(t6, t1)\n",
    "    t8 = mulFp2(t7, t7)\n",
    "    t9 = mulFp2(t7, t8)\n",
    "    t10 = mulFp2(t8, t1)\n",
    "    t11 = mulFp2(t5, t2)\n",
    "    t12 = subFp2(t11, t9)\n",
    "    t13 = addFp2(t10, t10)\n",
    "    A = subFp2(t12, t13)\n",
    "    X3 = mulFp2(t7, A)\n",
    "    t14 = subFp2(t10, A)\n",
    "    t15 = mulFp2(t4, t14)\n",
    "    t16 = mulFp2(t9, t0)\n",
    "    Y3 = subFp2(t15, t16)\n",
    "    Z3 = mulFp2(t9, t2)\n",
    "    return [X3, Y3, Z3]\n",
    "\n",
    "def invFp2(a):\n",
    "    b = (mul(a[0], a[0])+mul(a[1], a[1])) % p\n",
    "    c = pow(b, p-2, p)\n",
    "    # montgomery変換の補正 1/(c*R) * R**2 = (1/c)*R\n",
    "    c = (c*R % p)*R % p\n",
    "    new_i = (p-mul(a[0], c)) % p\n",
    "    new_r = mul(a[1], c) % p\n",
    "    return [new_i, new_r]\n",
    "\n",
    "def change_to_affine(Q):\n",
    "    # 射影座標(X,Y,Z)のZ座標を1に補正する　X,Y座標を取り出せばそのままアフィン座標\n",
    "    # Montgomery 空間中\n",
    "    zinv = invFp2(Q[2])\n",
    "    xaff = mulFp2(Q[0], zinv)\n",
    "    yaff = mulFp2(Q[1], zinv)\n",
    "    return [xaff, yaff, [0, MontConv(1)]]"
   ]
  },
  {
   "cell_type": "code",
   "execution_count": 11,
   "id": "1f537f07",
   "metadata": {},
   "outputs": [],
   "source": [
    "def MontConvInv(a):\n",
    "    c = (a*montgomery_inv) % p\n",
    "    return c\n",
    "\n",
    "def MontConv(a):\n",
    "    t = (a * R) % p\n",
    "    return t"
   ]
  },
  {
   "cell_type": "code",
   "execution_count": 19,
   "id": "2a388fc8",
   "metadata": {},
   "outputs": [],
   "source": [
    "qx_r=0x11354B47AAA486D2D8AFE36A6A0F3CD9181EE07C1A63C4B935B93F816ADB62673519EB44D6EF0026A30ABAA81C849116\n",
    "qx_i=0x0B26DBE028DB702CCF65C24716AEF4543553CE150FDB8AA9B3BAAAE44A8DB38FA4F1A7AC45465C735AB508EABC4D7B88\n",
    "qy_r=0x0A1B5BF9B26BF8852DD42F99E48DC89875DB51A6D11C44B2501ADD21319F7AC7672E031AEE02BCBA89F436DB8685718C\n",
    "qy_i=0x1008D775B01F059F777DE7D3824017F792DC607C70A336B8DAAD30140A9BA5EFC79F35EDF9618202DBAB88B5B898ECBA\n",
    "\n",
    "Q = [[MontConv(qx_i), MontConv(qx_r)], [MontConv(qy_i), MontConv(qy_r)], [MontConv(0), MontConv(1)]]"
   ]
  },
  {
   "cell_type": "code",
   "execution_count": 20,
   "id": "f3a77ca9",
   "metadata": {},
   "outputs": [],
   "source": [
    "q2x_r=0x0ACC86D01B11E76AA6FC2C07D3A41DCA1D22BFE3BD0DDDDE8146F800C4925E456D88EE6E00F7672A805E8BB8136AAEF1\n",
    "q2x_i=0x04947A8BC1CEACEC5B402EB15B0AE5B92B5DE63E15FD3B1AA1447C7FEABBA735C690A4767066F88206DD44D26A748958\n",
    "q2y_r=0x0F0DB6991FC0B8FF3E6774371B4E608147E989030BDD11FD132520EF3D032F2AE9203ACA646A895A405130701455247C\n",
    "q2y_i=0x089C04962B9AEECD8FFC135CF0DCA6E5829044483B1FE18C77527D23EB7218BB2B3A25D52B5DDC8C914C7CA56EA915CF\n",
    "\n",
    "Q2 = [[MontConv(q2x_i), MontConv(q2x_r)], [MontConv(q2y_i), MontConv(q2y_r)], [MontConv(0), MontConv(1)]]"
   ]
  },
  {
   "cell_type": "code",
   "execution_count": 21,
   "id": "2b071c43",
   "metadata": {},
   "outputs": [
    {
     "ename": "NameError",
     "evalue": "name 'invFp2' is not defined",
     "output_type": "error",
     "traceback": [
      "\u001b[0;31m---------------------------------------------------------------------------\u001b[0m",
      "\u001b[0;31mNameError\u001b[0m                                 Traceback (most recent call last)",
      "\u001b[0;32m<ipython-input-21-ae7384626f45>\u001b[0m in \u001b[0;36m<module>\u001b[0;34m\u001b[0m\n\u001b[1;32m      1\u001b[0m \u001b[0mR\u001b[0m\u001b[0;34m=\u001b[0m\u001b[0mpoint_add\u001b[0m\u001b[0;34m(\u001b[0m\u001b[0mQ\u001b[0m\u001b[0;34m,\u001b[0m\u001b[0mQ2\u001b[0m\u001b[0;34m)\u001b[0m\u001b[0;34m\u001b[0m\u001b[0;34m\u001b[0m\u001b[0m\n\u001b[0;32m----> 2\u001b[0;31m \u001b[0mRR\u001b[0m\u001b[0;34m=\u001b[0m\u001b[0mchange_to_affine\u001b[0m\u001b[0;34m(\u001b[0m\u001b[0mR\u001b[0m\u001b[0;34m)\u001b[0m\u001b[0;34m\u001b[0m\u001b[0;34m\u001b[0m\u001b[0m\n\u001b[0m",
      "\u001b[0;32m<ipython-input-18-dd29be41ebec>\u001b[0m in \u001b[0;36mchange_to_affine\u001b[0;34m(Q)\u001b[0m\n\u001b[1;32m     61\u001b[0m     \u001b[0;31m# 射影座標(X,Y,Z)のZ座標を1に補正する　X,Y座標を取り出せばそのままアフィン座標\u001b[0m\u001b[0;34m\u001b[0m\u001b[0;34m\u001b[0m\u001b[0;34m\u001b[0m\u001b[0m\n\u001b[1;32m     62\u001b[0m     \u001b[0;31m# Montgomery 空間中\u001b[0m\u001b[0;34m\u001b[0m\u001b[0;34m\u001b[0m\u001b[0;34m\u001b[0m\u001b[0m\n\u001b[0;32m---> 63\u001b[0;31m     \u001b[0mzinv\u001b[0m \u001b[0;34m=\u001b[0m \u001b[0minvFp2\u001b[0m\u001b[0;34m(\u001b[0m\u001b[0mQ\u001b[0m\u001b[0;34m[\u001b[0m\u001b[0;36m2\u001b[0m\u001b[0;34m]\u001b[0m\u001b[0;34m)\u001b[0m\u001b[0;34m\u001b[0m\u001b[0;34m\u001b[0m\u001b[0m\n\u001b[0m\u001b[1;32m     64\u001b[0m     \u001b[0mxaff\u001b[0m \u001b[0;34m=\u001b[0m \u001b[0mmulFp2\u001b[0m\u001b[0;34m(\u001b[0m\u001b[0mQ\u001b[0m\u001b[0;34m[\u001b[0m\u001b[0;36m0\u001b[0m\u001b[0;34m]\u001b[0m\u001b[0;34m,\u001b[0m \u001b[0mzinv\u001b[0m\u001b[0;34m)\u001b[0m\u001b[0;34m\u001b[0m\u001b[0;34m\u001b[0m\u001b[0m\n\u001b[1;32m     65\u001b[0m     \u001b[0myaff\u001b[0m \u001b[0;34m=\u001b[0m \u001b[0mmulFp2\u001b[0m\u001b[0;34m(\u001b[0m\u001b[0mQ\u001b[0m\u001b[0;34m[\u001b[0m\u001b[0;36m1\u001b[0m\u001b[0;34m]\u001b[0m\u001b[0;34m,\u001b[0m \u001b[0mzinv\u001b[0m\u001b[0;34m)\u001b[0m\u001b[0;34m\u001b[0m\u001b[0;34m\u001b[0m\u001b[0m\n",
      "\u001b[0;31mNameError\u001b[0m: name 'invFp2' is not defined"
     ]
    }
   ],
   "source": [
    "R=point_add(Q,Q2)\n",
    "RR=change_to_affine(R)"
   ]
  },
  {
   "cell_type": "code",
   "execution_count": 15,
   "id": "c82b0d9a",
   "metadata": {},
   "outputs": [],
   "source": [
    "def printFp2(a):\n",
    "    print (\"{0:#0{1}X}\".format(a[0],98))\n",
    "    print (\"{0:#0{1}X}\".format(a[1],98))"
   ]
  },
  {
   "cell_type": "code",
   "execution_count": 14,
   "id": "3b4c7af1",
   "metadata": {},
   "outputs": [],
   "source": [
    "xp = Q[0]\n",
    "yp = Q[1]\n",
    "zp = Q[2]\n",
    "xq = Q2[0]\n",
    "yq = Q2[1]\n",
    "zq = Q2[2]\n",
    "t0 = mulFp2(yp, zq)\n",
    "t1 = mulFp2(xp, zq)\n",
    "t2 = mulFp2(zp, zq)\n",
    "t3 = mulFp2(yq, zp)\n",
    "t4 = subFp2(t3, t0)\n",
    "t5 = mulFp2(t4, t4)\n",
    "t6 = mulFp2(xq, zp)\n",
    "t7 = subFp2(t6, t1)\n",
    "t8 = mulFp2(t7, t7)\n",
    "t9 = mulFp2(t7, t8)\n",
    "t10 = mulFp2(t8, t1)\n",
    "t11 = mulFp2(t5, t2)\n",
    "t12 = subFp2(t11, t9)\n",
    "t13 = addFp2(t10, t10)\n",
    "A = subFp2(t12, t13)\n",
    "X3 = mulFp2(t7, A)\n",
    "t14 = subFp2(t10, A)\n",
    "t15 = mulFp2(t4, t14)\n",
    "t16 = mulFp2(t9, t0)\n",
    "Y3 = subFp2(t15, t16)\n",
    "Z3 = mulFp2(t9, t2)"
   ]
  },
  {
   "cell_type": "code",
   "execution_count": 17,
   "id": "09d53a4b",
   "metadata": {},
   "outputs": [
    {
     "name": "stdout",
     "output_type": "stream",
     "text": [
      "0X025DBCD23F1D9A2FB80111B125A2D7E86D39BAA110790A35406EE54A3EC1CAEA17DED61A0DA682250571C1A05329BAF5\n",
      "0X10C36B2BE37A8C8010D53124105869C16561CBCCEB8827342C651BC799212D7992E9375DA9747D3794E0FEBCA4CA71A8\n",
      "0X0464E4D98F320DAF7FBFE31089E6F70391CAE23CB1E8B6CBD3DEB81DAA1F85CEDED250D2958C3F05CFDD3D89F76C294B\n",
      "0X1949A1A6E5069F769F561FD52377F267D5CC3404D814781D7EB49C1783BFB5B2F133FF1F2FF86CF175D949B068960900\n",
      "0X0C1B506FC2FF8AF0F34D737CDE083F2AB7705504A619C69C5F34D7306EE85067FEA6B0AEEB8549D71B58041C3415DEDA\n",
      "0X05DCE4086F65B499CFB950003DBD914D2A290BE7A3BE89C52A68717591742696551C0918FA129EECFBC6A8C2B985EF48\n"
     ]
    }
   ],
   "source": [
    "printFp2(X3)\n",
    "printFp2(Y3)\n",
    "printFp2(Z3)"
   ]
  },
  {
   "cell_type": "code",
   "execution_count": 16,
   "id": "6aa29d0b",
   "metadata": {},
   "outputs": [
    {
     "name": "stdout",
     "output_type": "stream",
     "text": [
      "0X0B26DBE028DB702CCF65C24716AEF4543553CE150FDB8AA9B3BAAAE44A8DB38FA4F1A7AC45465C735AB508EABC4D7B88\n",
      "0X11354B47AAA486D2D8AFE36A6A0F3CD9181EE07C1A63C4B935B93F816ADB62673519EB44D6EF0026A30ABAA81C849116\n",
      "0X1008D775B01F059F777DE7D3824017F792DC607C70A336B8DAAD30140A9BA5EFC79F35EDF9618202DBAB88B5B898ECBA\n",
      "0X0A1B5BF9B26BF8852DD42F99E48DC89875DB51A6D11C44B2501ADD21319F7AC7672E031AEE02BCBA89F436DB8685718C\n",
      "0X000000000000000000000000000000000000000000000000000000000000000000000000000000000000000000000000\n",
      "0X000000000000000000000000000000000000000000000000000000000000000000000000000000000000000000000001\n",
      "0X04947A8BC1CEACEC5B402EB15B0AE5B92B5DE63E15FD3B1AA1447C7FEABBA735C690A4767066F88206DD44D26A748958\n",
      "0X0ACC86D01B11E76AA6FC2C07D3A41DCA1D22BFE3BD0DDDDE8146F800C4925E456D88EE6E00F7672A805E8BB8136AAEF1\n",
      "0X089C04962B9AEECD8FFC135CF0DCA6E5829044483B1FE18C77527D23EB7218BB2B3A25D52B5DDC8C914C7CA56EA915CF\n",
      "0X0F0DB6991FC0B8FF3E6774371B4E608147E989030BDD11FD132520EF3D032F2AE9203ACA646A895A405130701455247C\n",
      "0X000000000000000000000000000000000000000000000000000000000000000000000000000000000000000000000000\n",
      "0X000000000000000000000000000000000000000000000000000000000000000000000000000000000000000000000001\n"
     ]
    }
   ],
   "source": [
    "printFp2(xp)\n",
    "printFp2(yp)\n",
    "printFp2(zp)\n",
    "printFp2(xq)\n",
    "printFp2(yq)\n",
    "printFp2(zq)"
   ]
  },
  {
   "cell_type": "code",
   "execution_count": 8,
   "id": "34cdf4e9",
   "metadata": {},
   "outputs": [
    {
     "name": "stdout",
     "output_type": "stream",
     "text": [
      "0X19D0B2784B3F806AEB699B6D677F4C7AE84F6E5B4F30375DECF3879382DA82182BBA83A3523F33B89CD638848921A3EA\n",
      "0X132A8C0BE9FF006F55D325F83959644083F3BEDC6DEBFB52796CA4E8380E8DD9F68E0D6B610073C36123124FD4AD71CA\n"
     ]
    }
   ],
   "source": [
    "printFp2(t0)"
   ]
  },
  {
   "cell_type": "code",
   "execution_count": 9,
   "id": "9c3e70b1",
   "metadata": {},
   "outputs": [
    {
     "name": "stdout",
     "output_type": "stream",
     "text": [
      "0X02ECEAB71ADB222CC44B89FE7CD2C59ECCB236C96FD92E4B8F2BE5F4896F8F448DC653704995F57D8AEE02BAF0DA3492\n",
      "0X07EBEA717301D0DC848C7A5FF04291B1700FEABFC82B326C72B202C2A2BA69D2D938832789493E624D1DD06BC6CB88A4\n"
     ]
    }
   ],
   "source": [
    "printFp2(t3)"
   ]
  },
  {
   "cell_type": "code",
   "execution_count": 12,
   "id": "59c51a03",
   "metadata": {},
   "outputs": [
    {
     "name": "stdout",
     "output_type": "stream",
     "text": [
      "0X057DBEA6076BD27C63FDD1AFCFF993C3F5B320A570F94D8575042A2DBC9FDB5664D7B9D5AFB4CF6B68A28BAFCC784744\n",
      "0X0975FD79C88643C3163077490622864B4012BD7E49AB2CCC5D3A670C205C6F129C5451E1A615E6BE2ABB5190EEF15662\n"
     ]
    }
   ],
   "source": [
    "printFp2(t1)"
   ]
  },
  {
   "cell_type": "code",
   "execution_count": 13,
   "id": "196f1b9e",
   "metadata": {},
   "outputs": [
    {
     "name": "stdout",
     "output_type": "stream",
     "text": [
      "0X000000000000000000000000000000000000000000000000000000000000000000000000000000000000000000000000\n",
      "0X05FEEE15C6801965B4E45849BCB453289B88B47B0C7AED4098CF2D5F094F09DBE15400014EAC00004601000000005555\n"
     ]
    }
   ],
   "source": [
    "printFp2(t2)"
   ]
  },
  {
   "cell_type": "code",
   "execution_count": 15,
   "id": "8f865d31",
   "metadata": {},
   "outputs": [
    {
     "name": "stdout",
     "output_type": "stream",
     "text": [
      "0X03B7263D9D8F4D2645EC2B043C703ECFA733859B8C72E54881EBE77AE2856AB733DC2D280FAB7DD01E1F2B5957177FD6\n",
      "0X0BB200FA669F497C512673B2881881E587391A1C67236F02F3F551BC243C578CA00F1D6CDA8D7295C2BAA2546140B314\n"
     ]
    }
   ],
   "source": [
    "printFp2(t5)"
   ]
  },
  {
   "cell_type": "code",
   "execution_count": 16,
   "id": "116ec95d",
   "metadata": {},
   "outputs": [
    {
     "name": "stdout",
     "output_type": "stream",
     "text": [
      "0X03B7263D9D8F4D2645EC2B043C703ECFA733859B8C72E54881EBE77AE2856AB733DC2D280FAB7DD01E1F2B5957177FD6\n",
      "0X0BB200FA669F497C512673B2881881E587391A1C67236F02F3F551BC243C578CA00F1D6CDA8D7295C2BAA2546140B314\n"
     ]
    }
   ],
   "source": [
    "printFp2(t11)"
   ]
  },
  {
   "cell_type": "code",
   "execution_count": 17,
   "id": "0b4742e7",
   "metadata": {},
   "outputs": [
    {
     "name": "stdout",
     "output_type": "stream",
     "text": [
      "0X03FBB4F5F1FB838817A5E30DF512D4A4D85ED7F7F9CBBD2779C0D7238487402A6145707ABDAEB9040EB333691A2F0C21\n",
      "0X148C03C9F2786BD785B38033CA97DB91BA27931FDBECF97DC4E129DFFF0AF7909C8C0DE64BAA4B882FDFBE9BD0B87AEF\n"
     ]
    }
   ],
   "source": [
    "printFp2(t12)"
   ]
  },
  {
   "cell_type": "code",
   "execution_count": 18,
   "id": "21a06a28",
   "metadata": {},
   "outputs": [
    {
     "name": "stdout",
     "output_type": "stream",
     "text": [
      "0X080AC7B9E4E4E8509CE0C62B9D68F4387ED203156E2CB95D559FC3F34C20B597CE22E049E0EF7121B11D313C0082C5C1\n",
      "0X0A2646F5C2266C59173CFF297F3901EAC487519ED44EBF34DE5926EEDE2A1879C3F869DB0189394357B2457EAB27630C\n"
     ]
    }
   ],
   "source": [
    "printFp2(t13)"
   ]
  },
  {
   "cell_type": "code",
   "execution_count": 19,
   "id": "b49896dd",
   "metadata": {},
   "outputs": [
    {
     "name": "stdout",
     "output_type": "stream",
     "text": [
      "0X04D34652037689D0D70A63048BA25D14FDA78890A25C6FF4A74D18CF175AB590FB010CBD94163985406B26B5A56FA96A\n",
      "0X15A433AC2435DD24E229F3719DE58D444CFC5AC1B5EF6D87B642DDD8D822869641BE286AB31A52238FD3C6619AFB4FD8\n"
     ]
    }
   ],
   "source": [
    "printFp2(t16)"
   ]
  },
  {
   "cell_type": "code",
   "execution_count": 20,
   "id": "8594d54f",
   "metadata": {},
   "outputs": [
    {
     "name": "stdout",
     "output_type": "stream",
     "text": [
      "0X19BC8331E513B0387961EFAC8AA91702334BF928862C3AE06F5BE2F854AF20B0F142BCAC0350C4CBC96AF7F03CE81E60\n",
      "0X11270F1AADA6C43F168E9B3500CC532B3188D2817EBB88449644FA7D1BE25620222F0F854037270D4CD9E3B89087E2D0\n"
     ]
    }
   ],
   "source": [
    "printFp2(t9)"
   ]
  },
  {
   "cell_type": "code",
   "execution_count": 22,
   "id": "a615d450",
   "metadata": {},
   "outputs": [
    {
     "name": "stdout",
     "output_type": "stream",
     "text": [
      "0X16C68A71D7C8F52AB1EBE5269892F575B326D7050B18764C2A17160AF885E781E917DB093A494A28EF15F4F7AB98CA73\n",
      "0X102C7EC5EB979873EFB45FA32ECD0EF1946E4765C944E40EDE9E6B0661C6533BD4D75275CBE7D4BE06256DB4AD4C9BEB\n"
     ]
    }
   ],
   "source": [
    "printFp2(X3)"
   ]
  },
  {
   "cell_type": "code",
   "execution_count": 21,
   "id": "4c9c48eb",
   "metadata": {},
   "outputs": [
    {
     "name": "stdout",
     "output_type": "stream",
     "text": [
      "0X0ED87A42E63B361B68732EF5B2F4DD03C17C3D63EA2ED8C9B7265B222CB7C1F9652E81C52AB197E1E79643DB3DE4425C\n",
      "0X17BC2E01FAB904E03A8BC408C323D4F54AAFB727CB8264EFBE7FB60808C717B86ED2E630D8352B5D3DF87A36ED53A6E2\n"
     ]
    }
   ],
   "source": [
    "printFp2(Y3)"
   ]
  },
  {
   "cell_type": "code",
   "execution_count": 23,
   "id": "4c1011e1",
   "metadata": {},
   "outputs": [
    {
     "name": "stdout",
     "output_type": "stream",
     "text": [
      "0X19BC8331E513B0387961EFAC8AA91702334BF928862C3AE06F5BE2F854AF20B0F142BCAC0350C4CBC96AF7F03CE81E60\n",
      "0X11270F1AADA6C43F168E9B3500CC532B3188D2817EBB88449644FA7D1BE25620222F0F854037270D4CD9E3B89087E2D0\n"
     ]
    }
   ],
   "source": [
    "printFp2(Z3)"
   ]
  },
  {
   "cell_type": "code",
   "execution_count": null,
   "id": "cf46ef96",
   "metadata": {},
   "outputs": [],
   "source": [
    "printFp2()"
   ]
  },
  {
   "cell_type": "code",
   "execution_count": null,
   "id": "58c9ddd4",
   "metadata": {},
   "outputs": [],
   "source": [
    "printFp2()"
   ]
  },
  {
   "cell_type": "code",
   "execution_count": null,
   "id": "1271c852",
   "metadata": {},
   "outputs": [],
   "source": [
    "printFp2()"
   ]
  }
 ],
 "metadata": {
  "kernelspec": {
   "display_name": "Python 3",
   "language": "python",
   "name": "python3"
  },
  "language_info": {
   "codemirror_mode": {
    "name": "ipython",
    "version": 3
   },
   "file_extension": ".py",
   "mimetype": "text/x-python",
   "name": "python",
   "nbconvert_exporter": "python",
   "pygments_lexer": "ipython3",
   "version": "3.6.8"
  }
 },
 "nbformat": 4,
 "nbformat_minor": 5
}
