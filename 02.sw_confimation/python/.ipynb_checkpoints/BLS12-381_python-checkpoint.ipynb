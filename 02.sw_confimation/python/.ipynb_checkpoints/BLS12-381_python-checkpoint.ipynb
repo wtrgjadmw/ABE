{
 "cells": [
  {
   "cell_type": "code",
   "execution_count": 1,
   "id": "efbd0e67",
   "metadata": {},
   "outputs": [],
   "source": [
    "# BLS12-381 Parameters\n",
    "from typing import NamedTuple\n",
    "\n",
    "class BLS12_381(NamedTuple):\n",
    "    # p is max value of interger in prime field\n",
    "    p:int=0x1a0111ea397fe69a4b1ba7b6434bacd764774b84f38512bf6730d2a0f6b0f6241eabfffeb153ffffb9feffffffffaaab\n",
    "    # r is max number of point in curve (curve order)\n",
    "    r:int=0x73eda753299d7d483339d80809a1d80553bda402fffe5bfeffffffff00000001\n",
    "    # u is special number for BLS curve\n",
    "    u:int=-0xd201000000010000\n",
    "    # Curve function: y^2 = x^3 + ax + b\n",
    "    curve_a: int = 0\n",
    "    curve_b: int = 4\n",
    "    \n",
    "    R:int = 2**381\n",
    "    montgomery_inv:int = pow(R, p-2, p)\n",
    "        \n",
    "param = BLS12_381()"
   ]
  },
  {
   "cell_type": "code",
   "execution_count": 2,
   "id": "1174e9f3",
   "metadata": {},
   "outputs": [],
   "source": [
    "from dataclasses import dataclass"
   ]
  },
  {
   "cell_type": "code",
   "execution_count": 95,
   "id": "946de051",
   "metadata": {},
   "outputs": [],
   "source": [
    "# fp class definition\n",
    "@dataclass\n",
    "class fp_t:\n",
    "    _x: int = 0\n",
    "    \n",
    "    # Getter function\n",
    "    @property\n",
    "    def x(self):\n",
    "        return self._x\n",
    "\n",
    "    # Setter function\n",
    "    @x.setter\n",
    "    def x(self, val):\n",
    "        if (not isinstance(val, int)):\n",
    "            raise TypeError('fp_t.x must be an int')\n",
    "        self._x = val % param.p\n",
    "        \n",
    "    # Class special methods\n",
    "    def __eq__(self, other):\n",
    "        return (self.x == other.x)\n",
    "    def __add__(self, other):\n",
    "        return fp_t((self.x+other.x)% param.p)\n",
    "    def __sub__(self, other):\n",
    "        return fp_t((self.x-other.x)% param.p)\n",
    "    def __mul__(self, other):\n",
    "        return fp_t((self.x*other.x)% param.p)\n",
    "    \n",
    "    # Class methods\n",
    "    def print(self):\n",
    "        s = (\"{0:#0{1}X}\".format(self.x,98))[2:]\n",
    "        ss = \" \".join(s[i*16:i*16+16] for i in range(6))\n",
    "        print(ss)\n",
    "        \n",
    "    def print_hex(self):\n",
    "        print(\"{0:X}\".format(self.x))\n",
    "    \n",
    "    def print_hex96(self):\n",
    "        print((\"{0:#0{1}X}\".format(self.x,98))[2:])\n",
    "        \n",
    "    def bits(self):\n",
    "        return (\"{0:b}\".format(self.x))\n",
    "    \n",
    "    def bits_list(self):\n",
    "        return [int(c) for c in \"{0:b}\".format(self.x)]"
   ]
  },
  {
   "cell_type": "code",
   "execution_count": 96,
   "id": "9a8f1ab2",
   "metadata": {},
   "outputs": [],
   "source": [
    "# fp functions\n",
    "\n",
    "def fp_inv(x:fp_t)->fp_t:\n",
    "    return fp_t(pow(x.x, param.p-2, param.p))\n",
    "\n",
    "def fp_sqr(x:fp_t)->fp_t: # square\n",
    "    return fp_t((x.x*x.x)%param.p)\n",
    "\n",
    "def fp_srt(x:fp_t)->fp_t: # square root\n",
    "    # for finding square root, if prime mod8==3 or ==7 can compute x^((p+1)/4)\n",
    "    # (p+1)/4 = 0X0680447A8E5FF9A692C6E9ED90D2EB35D91DD2E13CE144AFD9CC34A83DAC3D8907AAFFFFAC54FFFFEE7FBFFFFFFFEAAB\n",
    "    #         = 0b1101000000001000100011110101000111001011111111110011010011010010010110001101110100111101101100100001101001011101011001101011101100100011101110100101110000100111100111000010100010010101111110110011100110000110100101010000011110110101100001111011000100100000111101010101111111111111111101011000101010011111111111111111110111001111111101111111111111111111111111111111110101010101011\n",
    "    xx = 0X0680447A8E5FF9A692C6E9ED90D2EB35D91DD2E13CE144AFD9CC34A83DAC3D8907AAFFFFAC54FFFFEE7FBFFFFFFFEAAB\n",
    "    res = fp_t(pow(x.x, xx, param.p))\n",
    "    if(fp_sqr(res)!=x):\n",
    "        raise ValueError('Square root algorithm give wrong answer')\n",
    "    else:\n",
    "        return res\n",
    "\n",
    "def fp_sgn0(x:fp_t)->int:\n",
    "    return int(x.bits_list()[-1])"
   ]
  },
  {
   "cell_type": "code",
   "execution_count": null,
   "id": "dde61b82",
   "metadata": {},
   "outputs": [],
   "source": [
    "# ep class definition\n",
    "@dataclass\n",
    "class ep_t:\n",
    "    _x: fp_t = fp_t(0)\n",
    "    _y: fp_t = fp_t(0)\n",
    "    _z: fp_t = fp_t(0)\n",
    "    coord: str = \"affine\"\n",
    "    \n",
    "    # Getter function\n",
    "    @property\n",
    "    def x(self):\n",
    "        return self._x\n",
    "\n",
    "    # Setter function\n",
    "    @x.setter\n",
    "    def x(self, val):\n",
    "        if (not isinstance(val, fp_t)):\n",
    "            raise TypeError('ep_t.x must be an fp_t')\n",
    "        self._x = val\n",
    "    \n",
    "    # Getter function\n",
    "    @property\n",
    "    def y(self):\n",
    "        return self._y\n",
    "\n",
    "    # Setter function\n",
    "    @y.setter\n",
    "    def y(self, val):\n",
    "        if (not isinstance(val, fp_t)):\n",
    "            raise TypeError('ep_t.y must be an fp_t')\n",
    "        self._y = val\n",
    "    \n",
    "    # Getter function\n",
    "    @property\n",
    "    def z(self):\n",
    "        return self._z\n",
    "\n",
    "    # Setter function\n",
    "    @z.setter\n",
    "    def z(self, val):\n",
    "        if (not isinstance(val, fp_t)):\n",
    "            raise TypeError('ep_t.z must be an fp_t')\n",
    "        self._z = val\n",
    "    \n",
    "    # Class special methods\n",
    "    def __eq__(self, other):\n",
    "        return (self.x == other.x) & (self.y == other.y) & (self.z == other.z)\n",
    "    def __add__(self, q): # HAVE NOT TEST YET\n",
    "        if self.is_inf():\n",
    "            return q\n",
    "        elif q.is_inf():\n",
    "            return self\n",
    "        else:\n",
    "            p=self\n",
    "            t0=p.x*q.x\n",
    "            t1=p.y*q.y\n",
    "            t2=p.z*q.z\n",
    "            t3=p.x+p.y\n",
    "            t4=q.x+q.y\n",
    "            t3=t3*t4\n",
    "            t4=t0+t1\n",
    "            t3=t3-t4\n",
    "            # (ep_curve_opt_a() == RLC_ZERO)\n",
    "            # /* Cost of 12M + 2m_3b + 19a. */\n",
    "            t4=p.y+p.z\n",
    "            t5=q.y+q.z\n",
    "            t4=t4*t5\n",
    "            t5=t1+t2\n",
    "            t4=t4-t5\n",
    "            ry=q.x+q.z\n",
    "            rx=p.x+p.z\n",
    "            rx=rx*ry\n",
    "            ry=t0+t2\n",
    "            ry=rx-ry\n",
    "            rx=t0+t0\n",
    "            t0=t0+rx\n",
    "            t2=t2*0xC\n",
    "            rz=t1+t2\n",
    "            t1=t1-t2\n",
    "            ry=ry*0xC\n",
    "            rx=t4*ry\n",
    "            t2=t3*t1\n",
    "            rx=t2-rx\n",
    "            ry=t0*ry\n",
    "            t1=t1*rz\n",
    "            ry=t1+ry\n",
    "            t0=t0*t3\n",
    "            rz=rz*t4\n",
    "            rz=rz+to\n",
    "            return ep_t(rx,ry,rz)\n",
    "        \n",
    "#         t0=fp_mul(p.x,q.x)\n",
    "#         t1=fp_mul(p.y,q.y)\n",
    "#         t2=fp_mul(p.z,q.z)\n",
    "#         t3=fp_add(p.x,p.y)\n",
    "#         t4=fp_add(q.x,q.y)\n",
    "#         t3=fp_mul(t3,t4)\n",
    "#         t4=fp_add(t0,t1)\n",
    "#         t3=fp_sub(t3,t4)\n",
    "#         # (ep_curve_opt_a() == RLC_ZERO)\n",
    "#         # /* Cost of 12M + 2m_3b + 19a. */\n",
    "#         t4=fp_add(p.y,p.z)\n",
    "#         t5=fp_add(q.y,q.z)\n",
    "#         t4=fp_mul(t4,t5)\n",
    "#         t5=fp_add(t1,t2)\n",
    "#         t4=fp_sub(t4,t5)\n",
    "#         r.y=fp_add(q.x,q.z)\n",
    "#         r.x=fp_add(p.x,p.z)\n",
    "#         r.x=fp_mul(r.x,r.y)\n",
    "#         r.y=fp_add(t0,t2)\n",
    "#         r.y=fp_sub(r.x,r.y)\n",
    "#         r.x=fp_add(t0,t0) #fp_dbl\n",
    "#         t0=fp_add(t0,r.x)\n",
    "#         t2=fp_mul(t2,0xC)\n",
    "#         r.z=fp_add(t1,t2)\n",
    "#         t1=fp_sub(t1,t2)\n",
    "#         r.y=fp_mul(r.y,0xC)\n",
    "#         r.x=fp_mul(t4,r.y)\n",
    "#         t2=fp_mul(t3,t1)\n",
    "#         r.x=fp_sub(t2,r.x)\n",
    "#         r.y=fp_mul(t0,r.y)\n",
    "#         t1=fp_mul(t1,r.z)\n",
    "#         r.y=fp_add(t1,r.y)\n",
    "#         t0=fp_mul(t0,t3)\n",
    "#         r.z=fp_mul(r.z,t4)\n",
    "#         r.z=fp_add(r.z,t0)\n",
    "#         return r\n",
    "    \n",
    "#     def __sub__(self, other):\n",
    "#         return fp_t((self.x-other.x)% param.p)\n",
    "#     def __mul__(self, other):\n",
    "#         return fp_t((self.x*other.x)% param.p)\n",
    "    \n",
    "    # Class methods\n",
    "    def print(self):\n",
    "        self.x.print()\n",
    "        self.y.print()\n",
    "        self.z.print()\n",
    "        \n",
    "    def print_hex(self):\n",
    "        self.x.print_hex()\n",
    "        self.y.print_hex()\n",
    "        self.z.print_hex()\n",
    "    \n",
    "    def print_hex96(self):\n",
    "        self.x.print_hex96()\n",
    "        self.y.print_hex96()\n",
    "        self.z.print_hex96()\n",
    "    \n",
    "    def is_inf(self):\n",
    "        return (self.x == fp_t(0)) & (self.y == fp_t(0)) & (self.z == fp_t(0))"
   ]
  },
  {
   "cell_type": "code",
   "execution_count": null,
   "id": "1022373d",
   "metadata": {},
   "outputs": [],
   "source": [
    "class Geeks:\n",
    "     def __init__(self):\n",
    "          self._age = 0\n",
    "\n",
    "     # using property decorator\n",
    "     # a getter function\n",
    "     @property\n",
    "     def age(self):\n",
    "         print(\"getter method called\")\n",
    "         return self._age\n",
    "\n",
    "     # a setter function\n",
    "     @age.setter\n",
    "     def age(self, a):\n",
    "         if(a < 18):\n",
    "            raise ValueError(\"Sorry you age is below eligibility criteria\")\n",
    "         print(\"setter method called\")\n",
    "         self._age = a\n",
    "  \n",
    "mark = Geeks()\n",
    "  \n",
    "mark.age = 19\n",
    "  \n",
    "print(mark.age)"
   ]
  },
  {
   "cell_type": "code",
   "execution_count": 85,
   "id": "b7debf8c",
   "metadata": {},
   "outputs": [],
   "source": [
    "# fp class definition\n",
    "class fp_t:\n",
    "    def __init__(self,value):\n",
    "        self.value = value\n",
    "    def __repr__(self):\n",
    "        s = (\"{0:#0{1}X}\".format(self.value,98))[2:]\n",
    "        ss = \" \".join(s[i*16:i*16+16] for i in range(6))\n",
    "        return ss\n",
    "#     def __str__(self):\n",
    "#         s = (\"{0:#0{1}X}\".format(self.value,98))[2:]\n",
    "#         ss = \" \".join(s[i*16:i*16+16] for i in range(6))\n",
    "#         return ss\n",
    "    def __add__(self,other):\n",
    "        return fp_t(self.value+other.value)\n",
    "    def print_int(self):\n",
    "        return (self.value)\n",
    "    def print_hex(self):\n",
    "        return (\"{0:X}\".format(self.value))\n",
    "    def print_hex96(self):\n",
    "        return (\"{0:#0{1}X}\".format(self.value,98))"
   ]
  },
  {
   "cell_type": "code",
   "execution_count": 86,
   "id": "fae23aa8",
   "metadata": {},
   "outputs": [
    {
     "name": "stdout",
     "output_type": "stream",
     "text": [
      "0000000000000000 0000000000000000 0000000000000000 0000000000000000 0000000000000000 000000000000000A\n"
     ]
    }
   ],
   "source": [
    "x=fp_t(10)\n",
    "print(x)"
   ]
  },
  {
   "cell_type": "code",
   "execution_count": 87,
   "id": "ff6d5096",
   "metadata": {},
   "outputs": [
    {
     "data": {
      "text/plain": [
       "'A'"
      ]
     },
     "execution_count": 87,
     "metadata": {},
     "output_type": "execute_result"
    }
   ],
   "source": [
    "x.print_hex()"
   ]
  },
  {
   "cell_type": "code",
   "execution_count": 88,
   "id": "38d4d0b1",
   "metadata": {},
   "outputs": [
    {
     "data": {
      "text/plain": [
       "10"
      ]
     },
     "execution_count": 88,
     "metadata": {},
     "output_type": "execute_result"
    }
   ],
   "source": [
    "x.print_int()"
   ]
  },
  {
   "cell_type": "code",
   "execution_count": 89,
   "id": "926636df",
   "metadata": {},
   "outputs": [
    {
     "data": {
      "text/plain": [
       "0000000000000000 0000000000000000 0000000000000000 0000000000000000 0000000000000000 0000000000000014"
      ]
     },
     "execution_count": 89,
     "metadata": {},
     "output_type": "execute_result"
    }
   ],
   "source": [
    "x+x"
   ]
  },
  {
   "cell_type": "code",
   "execution_count": 108,
   "id": "6cb72e3e",
   "metadata": {},
   "outputs": [],
   "source": [
    "# ep class definition\n",
    "class ep_t:\n",
    "    def __init__(self,x=0,y=0):\n",
    "        self.x = fp_t(x)\n",
    "        self.y = fp_t(y)\n",
    "    def __repr__(self):\n",
    "        return str(self.x)+'\\n'+str(self.y)\n",
    "#     def __str__(self):\n",
    "#         return str(self.x)\n",
    "    def print_(self):\n",
    "        return "
   ]
  },
  {
   "cell_type": "code",
   "execution_count": 109,
   "id": "410d15cd",
   "metadata": {},
   "outputs": [],
   "source": [
    "p=ep_t()\n",
    "p.x=10"
   ]
  },
  {
   "cell_type": "code",
   "execution_count": 110,
   "id": "558000cc",
   "metadata": {},
   "outputs": [
    {
     "data": {
      "text/plain": [
       "10\n",
       "0000000000000000 0000000000000000 0000000000000000 0000000000000000 0000000000000000 0000000000000000"
      ]
     },
     "execution_count": 110,
     "metadata": {},
     "output_type": "execute_result"
    }
   ],
   "source": [
    "p"
   ]
  },
  {
   "cell_type": "code",
   "execution_count": 111,
   "id": "826ba932",
   "metadata": {},
   "outputs": [],
   "source": [
    "# ep class definition\n",
    "from dataclasses import dataclass\n",
    "\n",
    "@dataclass\n",
    "class ep_t:\n",
    "    x: int = 0\n",
    "    y: int = 0\n",
    "    z: int = 0\n",
    "    coord: str = \"\""
   ]
  },
  {
   "cell_type": "code",
   "execution_count": 112,
   "id": "753f218e",
   "metadata": {},
   "outputs": [],
   "source": [
    "pp=ep_t()"
   ]
  },
  {
   "cell_type": "code",
   "execution_count": 113,
   "id": "51f153f3",
   "metadata": {},
   "outputs": [
    {
     "data": {
      "text/plain": [
       "ep_t(x=0, y=0, z=0, coord='')"
      ]
     },
     "execution_count": 113,
     "metadata": {},
     "output_type": "execute_result"
    }
   ],
   "source": [
    "pp"
   ]
  },
  {
   "cell_type": "code",
   "execution_count": 170,
   "id": "da3cf5b0",
   "metadata": {},
   "outputs": [],
   "source": [
    "@dataclass\n",
    "class fp_t:\n",
    "    x: int = 0\n",
    "    \n",
    "    def __add__(self,other):\n",
    "        return (self.x+other.x)\n",
    "\n",
    "    def print(self):\n",
    "        print(self.x)"
   ]
  },
  {
   "cell_type": "code",
   "execution_count": 172,
   "id": "e7c874e8",
   "metadata": {},
   "outputs": [],
   "source": [
    "x=fp_t(10)"
   ]
  },
  {
   "cell_type": "code",
   "execution_count": 169,
   "id": "209f1d24",
   "metadata": {},
   "outputs": [
    {
     "name": "stdout",
     "output_type": "stream",
     "text": [
      "10\n",
      "10\n",
      "10\n",
      "10\n"
     ]
    }
   ],
   "source": [
    "x.print()\n",
    "x.print()"
   ]
  },
  {
   "cell_type": "code",
   "execution_count": 177,
   "id": "9c7b71a1",
   "metadata": {},
   "outputs": [
    {
     "ename": "TypeError",
     "evalue": "unsupported operand type(s) for *: 'fp_t' and 'fp_t'",
     "output_type": "error",
     "traceback": [
      "\u001b[0;31m---------------------------------------------------------------------------\u001b[0m",
      "\u001b[0;31mTypeError\u001b[0m                                 Traceback (most recent call last)",
      "\u001b[0;32m<ipython-input-177-30b88bf7d616>\u001b[0m in \u001b[0;36m<module>\u001b[0;34m\u001b[0m\n\u001b[0;32m----> 1\u001b[0;31m \u001b[0mx\u001b[0m\u001b[0;34m*\u001b[0m\u001b[0mx\u001b[0m\u001b[0;34m\u001b[0m\u001b[0;34m\u001b[0m\u001b[0m\n\u001b[0m",
      "\u001b[0;31mTypeError\u001b[0m: unsupported operand type(s) for *: 'fp_t' and 'fp_t'"
     ]
    }
   ],
   "source": [
    "x*x"
   ]
  },
  {
   "cell_type": "code",
   "execution_count": 186,
   "id": "86f2092f",
   "metadata": {},
   "outputs": [],
   "source": [
    "@dataclass\n",
    "class ep_t:\n",
    "    _x: fp_t = fp_t(0)\n",
    "    y: fp_t = 0\n",
    "    z: fp_t = 0\n",
    "    coord: str = \"\"\n",
    "        \n",
    "    def x(self,value):\n",
    "        if value is None:\n",
    "            return self._x\n",
    "        else:\n",
    "            self._x = fp_t(value)"
   ]
  },
  {
   "cell_type": "code",
   "execution_count": 187,
   "id": "6d169466",
   "metadata": {},
   "outputs": [],
   "source": [
    "p=ep_t()"
   ]
  },
  {
   "cell_type": "code",
   "execution_count": 175,
   "id": "df27ab04",
   "metadata": {},
   "outputs": [
    {
     "name": "stdout",
     "output_type": "stream",
     "text": [
      "0\n"
     ]
    }
   ],
   "source": [
    "p.x.print()"
   ]
  },
  {
   "cell_type": "code",
   "execution_count": 144,
   "id": "c2b30e30",
   "metadata": {},
   "outputs": [
    {
     "data": {
      "text/plain": [
       "int"
      ]
     },
     "execution_count": 144,
     "metadata": {},
     "output_type": "execute_result"
    }
   ],
   "source": [
    "type(p.x)"
   ]
  },
  {
   "cell_type": "code",
   "execution_count": 185,
   "id": "5b8154e2",
   "metadata": {},
   "outputs": [
    {
     "data": {
      "text/plain": [
       "16"
      ]
     },
     "execution_count": 185,
     "metadata": {},
     "output_type": "execute_result"
    }
   ],
   "source": [
    "p.y+p.y"
   ]
  },
  {
   "cell_type": "code",
   "execution_count": 183,
   "id": "00336889",
   "metadata": {},
   "outputs": [],
   "source": [
    "p.y=fp_t(8)"
   ]
  },
  {
   "cell_type": "code",
   "execution_count": null,
   "id": "9f7b9473",
   "metadata": {},
   "outputs": [],
   "source": [
    "p.assign"
   ]
  },
  {
   "cell_type": "code",
   "execution_count": 189,
   "id": "36c9143a",
   "metadata": {},
   "outputs": [
    {
     "data": {
      "text/plain": [
       "<bound method ep_t.x of ep_t(_x=fp_t(x=0), y=0, z=0, coord='')>"
      ]
     },
     "execution_count": 189,
     "metadata": {},
     "output_type": "execute_result"
    }
   ],
   "source": [
    "p.x"
   ]
  },
  {
   "cell_type": "code",
   "execution_count": 190,
   "id": "048bad75",
   "metadata": {},
   "outputs": [],
   "source": [
    "class Foo:\n",
    "    x: int\n",
    "    y: int\n",
    "\n",
    "foo = Foo()\n",
    "foo.x = \"hello\""
   ]
  },
  {
   "cell_type": "code",
   "execution_count": 193,
   "id": "30013dfe",
   "metadata": {},
   "outputs": [
    {
     "ename": "AttributeError",
     "evalue": "'Foo' object has no attribute 'y'",
     "output_type": "error",
     "traceback": [
      "\u001b[0;31m---------------------------------------------------------------------------\u001b[0m",
      "\u001b[0;31mAttributeError\u001b[0m                            Traceback (most recent call last)",
      "\u001b[0;32m<ipython-input-193-720a440d993a>\u001b[0m in \u001b[0;36m<module>\u001b[0;34m\u001b[0m\n\u001b[0;32m----> 1\u001b[0;31m \u001b[0mfoo\u001b[0m\u001b[0;34m.\u001b[0m\u001b[0my\u001b[0m\u001b[0;34m\u001b[0m\u001b[0;34m\u001b[0m\u001b[0m\n\u001b[0m",
      "\u001b[0;31mAttributeError\u001b[0m: 'Foo' object has no attribute 'y'"
     ]
    }
   ],
   "source": [
    "foo.y"
   ]
  },
  {
   "cell_type": "code",
   "execution_count": 211,
   "id": "70c59cf1",
   "metadata": {},
   "outputs": [],
   "source": [
    "class A:\n",
    "    def __init__(self, a0):\n",
    "        self._a = a0\n",
    "    @property\n",
    "    def a(self):\n",
    "        return self._a\n",
    "    \n",
    "    @a.setter\n",
    "    def a(self, value):\n",
    "        if not isinstance(value, int):\n",
    "            raise TypeError('A.a must be an int')\n",
    "        self._a = value"
   ]
  },
  {
   "cell_type": "code",
   "execution_count": 220,
   "id": "bae0c463",
   "metadata": {},
   "outputs": [],
   "source": [
    "tt=A(5)"
   ]
  },
  {
   "cell_type": "code",
   "execution_count": 226,
   "id": "cecfadfe",
   "metadata": {},
   "outputs": [
    {
     "data": {
      "text/plain": [
       "True"
      ]
     },
     "execution_count": 226,
     "metadata": {},
     "output_type": "execute_result"
    }
   ],
   "source": [
    "isinstance(tt, A)"
   ]
  },
  {
   "cell_type": "code",
   "execution_count": 221,
   "id": "3b46c028",
   "metadata": {},
   "outputs": [
    {
     "data": {
      "text/plain": [
       "5"
      ]
     },
     "execution_count": 221,
     "metadata": {},
     "output_type": "execute_result"
    }
   ],
   "source": [
    "tt.a"
   ]
  },
  {
   "cell_type": "code",
   "execution_count": 224,
   "id": "298288b6",
   "metadata": {},
   "outputs": [
    {
     "ename": "TypeError",
     "evalue": "A.a must be an int",
     "output_type": "error",
     "traceback": [
      "\u001b[0;31m---------------------------------------------------------------------------\u001b[0m",
      "\u001b[0;31mTypeError\u001b[0m                                 Traceback (most recent call last)",
      "\u001b[0;32m<ipython-input-224-44c3239922e5>\u001b[0m in \u001b[0;36m<module>\u001b[0;34m\u001b[0m\n\u001b[0;32m----> 1\u001b[0;31m \u001b[0mtt\u001b[0m\u001b[0;34m.\u001b[0m\u001b[0ma\u001b[0m\u001b[0;34m=\u001b[0m\u001b[0;34m'll'\u001b[0m\u001b[0;34m\u001b[0m\u001b[0;34m\u001b[0m\u001b[0m\n\u001b[0m",
      "\u001b[0;32m<ipython-input-211-d5852f1d8dcb>\u001b[0m in \u001b[0;36ma\u001b[0;34m(self, value)\u001b[0m\n\u001b[1;32m      9\u001b[0m     \u001b[0;32mdef\u001b[0m \u001b[0ma\u001b[0m\u001b[0;34m(\u001b[0m\u001b[0mself\u001b[0m\u001b[0;34m,\u001b[0m \u001b[0mvalue\u001b[0m\u001b[0;34m)\u001b[0m\u001b[0;34m:\u001b[0m\u001b[0;34m\u001b[0m\u001b[0;34m\u001b[0m\u001b[0m\n\u001b[1;32m     10\u001b[0m         \u001b[0;32mif\u001b[0m \u001b[0;32mnot\u001b[0m \u001b[0misinstance\u001b[0m\u001b[0;34m(\u001b[0m\u001b[0mvalue\u001b[0m\u001b[0;34m,\u001b[0m \u001b[0mint\u001b[0m\u001b[0;34m)\u001b[0m\u001b[0;34m:\u001b[0m\u001b[0;34m\u001b[0m\u001b[0;34m\u001b[0m\u001b[0m\n\u001b[0;32m---> 11\u001b[0;31m             \u001b[0;32mraise\u001b[0m \u001b[0mTypeError\u001b[0m\u001b[0;34m(\u001b[0m\u001b[0;34m'A.a must be an int'\u001b[0m\u001b[0;34m)\u001b[0m\u001b[0;34m\u001b[0m\u001b[0;34m\u001b[0m\u001b[0m\n\u001b[0m\u001b[1;32m     12\u001b[0m         \u001b[0mself\u001b[0m\u001b[0;34m.\u001b[0m\u001b[0m_a\u001b[0m \u001b[0;34m=\u001b[0m \u001b[0mvalue\u001b[0m\u001b[0;34m\u001b[0m\u001b[0;34m\u001b[0m\u001b[0m\n",
      "\u001b[0;31mTypeError\u001b[0m: A.a must be an int"
     ]
    }
   ],
   "source": [
    "tt.a='ll'"
   ]
  },
  {
   "cell_type": "code",
   "execution_count": 223,
   "id": "b5be9519",
   "metadata": {},
   "outputs": [
    {
     "data": {
      "text/plain": [
       "10"
      ]
     },
     "execution_count": 223,
     "metadata": {},
     "output_type": "execute_result"
    }
   ],
   "source": [
    "tt.a"
   ]
  },
  {
   "cell_type": "code",
   "execution_count": 212,
   "id": "11a13c64",
   "metadata": {},
   "outputs": [],
   "source": [
    "a=A(10)"
   ]
  },
  {
   "cell_type": "code",
   "execution_count": 205,
   "id": "cb03078a",
   "metadata": {},
   "outputs": [],
   "source": [
    "a.a(20)"
   ]
  },
  {
   "cell_type": "code",
   "execution_count": 215,
   "id": "a63cf5ec",
   "metadata": {},
   "outputs": [
    {
     "ename": "AttributeError",
     "evalue": "'int' object has no attribute 'setter'",
     "output_type": "error",
     "traceback": [
      "\u001b[0;31m---------------------------------------------------------------------------\u001b[0m",
      "\u001b[0;31mAttributeError\u001b[0m                            Traceback (most recent call last)",
      "\u001b[0;32m<ipython-input-215-72d2edf85938>\u001b[0m in \u001b[0;36m<module>\u001b[0;34m\u001b[0m\n\u001b[0;32m----> 1\u001b[0;31m \u001b[0ma\u001b[0m\u001b[0;34m.\u001b[0m\u001b[0ma\u001b[0m\u001b[0;34m.\u001b[0m\u001b[0msetter\u001b[0m\u001b[0;34m(\u001b[0m\u001b[0;36m20\u001b[0m\u001b[0;34m)\u001b[0m\u001b[0;34m\u001b[0m\u001b[0;34m\u001b[0m\u001b[0m\n\u001b[0m",
      "\u001b[0;31mAttributeError\u001b[0m: 'int' object has no attribute 'setter'"
     ]
    }
   ],
   "source": [
    "a.a.setter(20)"
   ]
  },
  {
   "cell_type": "code",
   "execution_count": 216,
   "id": "f34f8d9d",
   "metadata": {},
   "outputs": [
    {
     "name": "stdout",
     "output_type": "stream",
     "text": [
      "setter method called\n",
      "getter method called\n",
      "19\n"
     ]
    }
   ],
   "source": [
    "class Geeks:\n",
    "     def __init__(self):\n",
    "          self._age = 0\n",
    "\n",
    "     # using property decorator\n",
    "     # a getter function\n",
    "     @property\n",
    "     def age(self):\n",
    "         print(\"getter method called\")\n",
    "         return self._age\n",
    "\n",
    "     # a setter function\n",
    "     @age.setter\n",
    "     def age(self, a):\n",
    "         if(a < 18):\n",
    "            raise ValueError(\"Sorry you age is below eligibility criteria\")\n",
    "         print(\"setter method called\")\n",
    "         self._age = a\n",
    "  \n",
    "mark = Geeks()\n",
    "  \n",
    "mark.age = 19\n",
    "  \n",
    "print(mark.age)"
   ]
  },
  {
   "cell_type": "code",
   "execution_count": 217,
   "id": "b24beccc",
   "metadata": {},
   "outputs": [],
   "source": [
    "test=Geeks()"
   ]
  },
  {
   "cell_type": "code",
   "execution_count": 218,
   "id": "0f77c8dd",
   "metadata": {},
   "outputs": [
    {
     "name": "stdout",
     "output_type": "stream",
     "text": [
      "setter method called\n"
     ]
    }
   ],
   "source": [
    "test.age=50"
   ]
  },
  {
   "cell_type": "code",
   "execution_count": 219,
   "id": "5578b053",
   "metadata": {},
   "outputs": [
    {
     "name": "stdout",
     "output_type": "stream",
     "text": [
      "getter method called\n"
     ]
    },
    {
     "data": {
      "text/plain": [
       "50"
      ]
     },
     "execution_count": 219,
     "metadata": {},
     "output_type": "execute_result"
    }
   ],
   "source": [
    "test.age"
   ]
  },
  {
   "cell_type": "code",
   "execution_count": null,
   "id": "12e0fd02",
   "metadata": {},
   "outputs": [],
   "source": [
    "class Example(object):\n",
    "    def __init__(self, x=None, y=None):\n",
    "        self._x = x\n",
    "        self._y = y\n",
    "\n",
    "    @property\n",
    "    def x(self):\n",
    "        return self.x or self.defaultX()\n",
    "\n",
    "    @x.setter\n",
    "    def x(self, value):\n",
    "        self._x = value\n",
    "\n",
    "    @property\n",
    "    def y(self):\n",
    "        return self.y or self.defaultY()\n",
    "\n",
    "    @y.setter\n",
    "    def y(self, value):\n",
    "        self._y = value\n",
    "\n",
    "    # default{XY} as before."
   ]
  }
 ],
 "metadata": {
  "kernelspec": {
   "display_name": "Python 3",
   "language": "python",
   "name": "python3"
  },
  "language_info": {
   "codemirror_mode": {
    "name": "ipython",
    "version": 3
   },
   "file_extension": ".py",
   "mimetype": "text/x-python",
   "name": "python",
   "nbconvert_exporter": "python",
   "pygments_lexer": "ipython3",
   "version": "3.6.8"
  }
 },
 "nbformat": 4,
 "nbformat_minor": 5
}
