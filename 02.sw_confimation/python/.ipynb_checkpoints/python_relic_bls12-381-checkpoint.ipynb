{
 "cells": [
  {
   "cell_type": "code",
   "execution_count": 7,
   "id": "b585958b",
   "metadata": {},
   "outputs": [],
   "source": [
    "# BLS12-381 Parameters\n",
    "from typing import NamedTuple\n",
    "\n",
    "class BLS12_381(NamedTuple):\n",
    "    # p is max value of interger in prime field\n",
    "    p:int=0x1a0111ea397fe69a4b1ba7b6434bacd764774b84f38512bf6730d2a0f6b0f6241eabfffeb153ffffb9feffffffffaaab\n",
    "    # r is max number of point in curve (curve order)\n",
    "    r:int=0x73eda753299d7d483339d80809a1d80553bda402fffe5bfeffffffff00000001\n",
    "    # u is special number for BLS curve\n",
    "    u:int=-0xd201000000010000\n",
    "    coord:str=\"test\"\n",
    "    R:int = 2**381\n",
    "    montgomery_inv:int = pow(R, p-2, p)\n",
    "        \n",
    "param = BLS12_381()"
   ]
  },
  {
   "cell_type": "code",
   "execution_count": 11,
   "id": "f491be23",
   "metadata": {},
   "outputs": [],
   "source": [
    "# RELIC fp functions (behaviors)\n",
    "\n",
    "def fp_inv(x):\n",
    "    return pow(x, p-2, p)\n",
    "\n",
    "def fp_mul(x,y):\n",
    "    return (x*y)%param.p\n",
    "\n",
    "def fp_add(x,y):\n",
    "    return (x+y)%param.p\n",
    "\n",
    "def fp_sub(x,y):\n",
    "    return (x-y)%param.p\n",
    "\n",
    "def fp_sqr(x):\n",
    "    return (x*x)%param.p\n",
    "\n",
    "def fp_neg(x):\n",
    "    return param.p-x\n",
    "\n",
    "def fp_print(x):\n",
    "    print (\"{0:#0{1}X}\".format(x,98))\n",
    "    \n",
    "def fp_print_(x):\n",
    "    s = (\"{0:#0{1}X}\".format(x,98))[2:]\n",
    "    ss = \" \".join(s[i:i+16] for i in range(6))\n",
    "    print(ss)\n",
    "    \n",
    "def bits_of(k):\n",
    "    return [int(c) for c in \"{0:b}\".format(k)]\n",
    "\n",
    "def fp_sgn0(x):\n",
    "    return bits_of(x)[-1]\n",
    "\n",
    "def fp_srt(x):\n",
    "    # for finding square root, if prime mod8==3 or ==7 can compute x^((p+1)/4)\n",
    "    # (p+1)/4 = 0X0680447A8E5FF9A692C6E9ED90D2EB35D91DD2E13CE144AFD9CC34A83DAC3D8907AAFFFFAC54FFFFEE7FBFFFFFFFEAAB\n",
    "    #         = 0b1101000000001000100011110101000111001011111111110011010011010010010110001101110100111101101100100001101001011101011001101011101100100011101110100101110000100111100111000010100010010101111110110011100110000110100101010000011110110101100001111011000100100000111101010101111111111111111101011000101010011111111111111111110111001111111101111111111111111111111111111111110101010101011\n",
    "    xx = 0X0680447A8E5FF9A692C6E9ED90D2EB35D91DD2E13CE144AFD9CC34A83DAC3D8907AAFFFFAC54FFFFEE7FBFFFFFFFEAAB\n",
    "    res = pow(x, xx, p)\n",
    "    if(fp_sqr(res)==x):\n",
    "        return 1,res\n",
    "    else:\n",
    "        return 0,res\n"
   ]
  },
  {
   "cell_type": "code",
   "execution_count": 28,
   "id": "03beeb45",
   "metadata": {},
   "outputs": [],
   "source": []
  },
  {
   "cell_type": "code",
   "execution_count": 30,
   "id": "2b68f5a2",
   "metadata": {},
   "outputs": [
    {
     "name": "stdout",
     "output_type": "stream",
     "text": [
      "00144698A3B8E943 0144698A3B8E9433 144698A3B8E9433D 44698A3B8E9433D6 4698A3B8E9433D69 698A3B8E9433D693\n"
     ]
    }
   ],
   "source": [
    "fp_print_(ep_map_c2)"
   ]
  },
  {
   "cell_type": "code",
   "execution_count": null,
   "id": "896d079f",
   "metadata": {},
   "outputs": [],
   "source": [
    "# RELIC ep functions (behaviors)\\\n",
    "\n",
    "def ep_norm(x,y,z):\n",
    "    zinv=fp_inv(z)\n",
    "    xo=fp_mul(x,zinv)\n",
    "    yo=fp_mul(y,zinv)\n",
    "    return xo,yo,1"
   ]
  },
  {
   "cell_type": "code",
   "execution_count": 18,
   "id": "f7b844a3",
   "metadata": {},
   "outputs": [],
   "source": [
    "ep_map_c0 = 0x0793154FD85631D966EF2470460C78F6A928AD9F5BDBFAC21DF39753AA278BA751BDFCF95A84188E29D670675E4C9C7C\n",
    "ep_map_c2 = 0x00144698A3B8E9433D693A02C96D4982B0EA985383EE66A8D8E8981AEFD881AC98936F8DA0E0F97F5CF428082D584C1D\n",
    "ep_map_c3 = 0x12E2908D11688030018B12E8753EEE3B2016C1F0F24F4070A0B9C14FCEF35EF55A23215A316CEAA5D1CC48E98E172BE0\n",
    "ep_map_u = 0x0B\n",
    "\n",
    "def sswu_map(t):\n",
    "    t0 = fp_sqr(t)\n",
    "    t0=fp_mul(t0,ep_map_u)\n",
    "    t1=fp_sqr(t0)\n",
    "    t2=fp_add(t1,t0)\n",
    "    if(t2!=0):\n",
    "        t2=fp_inv(t2)\n",
    "        t2=t2+1 #t2=(1 + 1 / (u^2 * t^4 + u * t^2))\n",
    "    else:\n",
    "        t2=fp_inv(fp_neg(ep_map_u)) #t2=-1/u\n",
    "    x=fp_mul(ep_map_c0,t2)\n",
    "#     fp_print(x)\n",
    "    y=fp_sqr(x)\n",
    "    y=fp_add(y,ep_map_c2)\n",
    "    y=fp_mul(y,x)\n",
    "    y=fp_add(y,ep_map_c3)\n",
    "#     fp_print(y)\n",
    "    \n",
    "    t2=fp_mul(t0,x)\n",
    "#     fp_print(t2)\n",
    "    t1=fp_mul(t0,t1)\n",
    "    t3=fp_mul(t1,y)\n",
    "#     fp_print(t3)\n",
    "    \n",
    "    chk,y=fp_srt(y)\n",
    "    if(chk==0):\n",
    "        x=t2\n",
    "        _chk,y=fp_srt(t3)\n",
    "        \n",
    "    return x,y"
   ]
  },
  {
   "cell_type": "code",
   "execution_count": 3,
   "id": "11ed85cb",
   "metadata": {},
   "outputs": [],
   "source": [
    "deg_xn=12\n",
    "deg_yn=16\n",
    "deg_xd=11\n",
    "deg_yd=16\n",
    "\n",
    "coef_xn=[None]*deg_xn\n",
    "coef_yn=[None]*deg_yn\n",
    "coef_xd=[None]*deg_xd\n",
    "coef_yd=[None]*deg_yd\n",
    "\n",
    "coef_xn[11]=0x06E08C248E260E70BD1E962381EDEE3D31D79D7E22C837BC23C0BF1BC24C6B68C24B1B80B64D391FA9C8BA2E8BA2D229\n",
    "coef_xn[10]=0x10321DA079CE07E272D8EC09D2565B0DFA7DCCDDE6787F96D50AF36003B14866F69B771F8C285DECCA67DF3F1605FB7B\n",
    "coef_xn[9]=0x169B1F8E1BCFA7C42E0C37515D138F22DD2ECB803A0C5C99676314BAF4BB1B7FA3190B2EDC0327797F241067BE390C9E\n",
    "coef_xn[8]=0x080D3CF1F9A78FC47B90B33563BE990DC43B756CE79F5574A2C596C928C5D1DE4FA295F296B74E956D71986A8497E317\n",
    "coef_xn[7]=0x17B81E7701ABDBE2E8743884D1117E53356DE5AB275B4DB1A682C62EF0F2753339B7C8F8C8F475AF9CCB5618E3F0C88E\n",
    "coef_xn[6]=0x0D6ED6553FE44D296A3726C38AE652BFB11586264F0F8CE19008E218F9C86B2A8DA25128C1052ECADDD7F225A139ED84\n",
    "coef_xn[5]=0x1630C3250D7313FF01D1201BF7A74AB5DB3CB17DD952799B9ED3AB9097E68F90A0870D2DCAE73D19CD13C1C66F652983\n",
    "coef_xn[4]=0x0E99726A3199F4436642B4B3E4118E5499DB995A1257FB3F086EEB65982FAC18985A286F301E77C451154CE9AC8895D9\n",
    "coef_xn[3]=0x1778E7166FCC6DB74E0609D307E55412D7F5E4656A8DBF25F1B33289F1B330835336E25CE3107193C5B388641D9B6861\n",
    "coef_xn[2]=0x0D54005DB97678EC1D1048C5D10A9A1BCE032473295983E56878E501EC68E25C958C3E3D2A09729FE0179F9DAC9EDCB0\n",
    "coef_xn[1]=0x17294ED3E943AB2F0588BAB22147A81C7C17E75B2F6A8417F565E33C70D1E86B4838F2A6F318C356E834EEF1B3CB83BB\n",
    "coef_xn[0]=0x11A05F2B1E833340B809101DD99815856B303E88A2D7005FF2627B56CDB4E2C85610C2D5F2E62D6EAEAC1662734649B7\n",
    "\n",
    "coef_yn[15]=0x15E6BE4E990F03CE4EA50B3B42DF2EB5CB181D8F84965A3957ADD4FA95AF01B2B665027EFEC01C7704B456BE69C8B604\n",
    "coef_yn[14]=0x05C129645E44CF1102A159F748C4A3FC5E673D81D7E86568D9AB0F5D396A7CE46BA1049B6579AFB7866B1E715475224B\n",
    "coef_yn[13]=0x0245A394AD1ECA9B72FC00AE7BE315DC757B3B080D4C158013E6632D3C40659CC6CF90AD1C232A6442D9D3F5DB980133\n",
    "coef_yn[12]=0x0B182CAC101B9399D155096004F53F447AA7B12A3426B08EC02710E807B4633F06C851C1919211F20D4C04F00B971EF8\n",
    "coef_yn[11]=0x18B46A908F36F6DEB918C143FED2EDCC523559B8AAF0C2462E6BFE7F911F643249D9CDF41B44D606CE07C8A4D0074D8E\n",
    "coef_yn[10]=0x19713E47937CD1BE0DFD0B8F1D43FB93CD2FCBCB6CAF493FD1183E416389E61031BF3A5CCE3FBAFCE813711AD011C132\n",
    "coef_yn[9]=0x0E1BBA7A1186BDB5223ABDE7ADA14A23C42A0CA7915AF6FE06985E7ED1E4D43B9B3F7055DD4EBA6F2BAFAAEBCA731C30\n",
    "coef_yn[8]=0x09FC4018BD96684BE88C9E221E4DA1BB8F3ABD16679DC26C1E8B6E6A1F20CABE69D65201C78607A360370E577BDBA587\n",
    "coef_yn[7]=0x0987C8D5333AB86FDE9926BD2CA6C674170A05BFE3BDD81FFD038DA6C26C842642F64550FEDFE935A15E4CA31870FB29\n",
    "coef_yn[6]=0x04AB0B9BCFAC1BBCB2C977D027796B3CE75BB8CA2BE184CB5231413C4D634F3747A87AC2460F415EC961F8855FE9D6F2\n",
    "coef_yn[5]=0x16603FCA40634B6A2211E11DB8F0A6A074A7D0D4AFADB7BD76505C3D3AD5544E203F6326C95A807299B23AB13633A5F0\n",
    "coef_yn[4]=0x08CC03FDEFE0FF135CAF4FE2A21529C4195536FBE3CE50B879833FD221351ADC2EE7F8DC099040A841B6DAECF2E8FEDB\n",
    "coef_yn[3]=0x01F86376E8981C217898751AD8746757D42AA7B90EEB791C09E4A3EC03251CF9DE405ABA9EC61DECA6355C77B0E5F4CB\n",
    "coef_yn[2]=0x00CC786BAA966E66F4A384C86A3B49942552E2D658A31CE2C344BE4B91400DA7D26D521628B00523B8DFE240C72DE1F6\n",
    "coef_yn[1]=0x134996A104EE5811D51036D776FB46831223E96C254F383D0F906343EB67AD34D6C56711962FA8BFE097E75A2E41C696\n",
    "coef_yn[0]=0x090D97C81BA24EE0259D1F094980DCFA11AD138E48A869522B52AF6C956543D3CD0C7AEE9B3BA3C2BE9845719707BB33\n",
    "\n",
    "coef_xd[10]=0x1\n",
    "coef_xd[9]=0x095FC13AB9E92AD4476D6E3EB3A56680F682B4EE96F7D03776DF533978F31C1593174E4B4B7865002D6384D168ECDD0A\n",
    "coef_xd[8]=0x0A10ECF6ADA54F825E920B3DAFC7A3CCE07F8D1D7161366B74100DA67F39883503826692ABBA43704776EC3A79A1D641\n",
    "coef_xd[7]=0x14A7AC2A9D64A8B230B3F5B074CF01996E7F63C21BCA68A81996E1CDF9822C580FA5B9489D11E2D311F7D99BBDCC5A5E\n",
    "coef_xd[6]=0x0772CAACF16936190F3E0C63E0596721570F5799AF53A1894E2E073062AEDE9CEA73B3538F0DE06CEC2574496EE84A3A\n",
    "coef_xd[5]=0x0E7355F8E4E667B955390F7F0506C6E9395735E9CE9CAD4D0A43BCEF24B8982F7400D24BC4228F11C02DF9A29F6304A5\n",
    "coef_xd[4]=0x13A8E162022914A80A6F1D5F43E7A07DFFDFC759A12062BB8D6B44E833B306DA9BD29BA81F35781D539D395B3532A21E\n",
    "coef_xd[3]=0x03425581A58AE2FEC83AAFEF7C40EB545B08243F16B1655154CCA8ABC28D6FD04976D5243EECF5C4130DE8938DC62CD8\n",
    "coef_xd[2]=0x0B2962FE57A3225E8137E629BFF2991F6F89416F5A718CD1FCA64E00B11ACEACD6A3D0967C94FEDCFCC239BA5CB83E19\n",
    "coef_xd[1]=0x12561A5DEB559C4348B4711298E536367041E8CA0CF0800C0126C2588C48BF5713DAA8846CB026E9E5C8276EC82B3BFF\n",
    "coef_xd[0]=0x08CA8D548CFF19AE18B2E62F4BD3FA6F01D5EF4BA35B48BA9C9588617FC8AC62B558D681BE343DF8993CF9FA40D21B1C\n",
    "\n",
    "coef_yd[15]=0x1\n",
    "coef_yd[14]=0x0E0FA1D816DDC03E6B24255E0D7819C171C40F65E273B853324EFCD6356CAA205CA2F570F13497804415473A1D634B8F\n",
    "coef_yd[13]=0x02660400EB2E4F3B628BDD0D53CD76F2BF565B94E72927C1CB748DF27942480E420517BD8714CC80D1FADC1326ED06F7\n",
    "coef_yd[12]=0x0AD6B9514C767FE3C3613144B45F1496543346D98ADF02267D5CEEF9A00D9B8693000763E3B90AC11E99B138573345CC\n",
    "coef_yd[11]=0x0ACCBB67481D033FF5852C1E48C50C477F94FF8AEFCE42D28C0F9A88CEA7913516F968986F7EBBEA9684B529E2561092\n",
    "coef_yd[10]=0x04D2F259EEA405BD48F010A01AD2911D9C6DD039BB61A6290E591B36E636A5C871A5C29F4F83060400F8B49CBA8F6AA8\n",
    "coef_yd[9]=0x167A55CDA70A6E1CEA820597D94A84903216F763E13D87BB5308592E7EA7D4FBC7385EA3D529B35E346EF48BB8913F55\n",
    "coef_yd[8]=0x1866C8ED336C61231A1BE54FD1D74CC4F9FB0CE4C6AF5920ABC5750C4BF39B4852CFE2F7BB9248836B233D9D55535D4A\n",
    "coef_yd[7]=0x16A3EF08BE3EA7EA03BCDDFABBA6FF6EE5A4375EFA1F4FD7FEB34FD206357132B920F5B00801DEE460EE415A15812ED9\n",
    "coef_yd[6]=0x166007C08A99DB2FC3BA8734ACE9824B5EECFDFA8D0CF8EF5DD365BC400A0051D5FA9C01A58B1FB93D1A1399126A775C\n",
    "coef_yd[5]=0x08D9E5297186DB2D9FB266EAAC783182B70152C65550D881C5ECD87B6F0F5A6449F38DB9DFA9CCE202C6477FAAF9B7AC\n",
    "coef_yd[4]=0x0BE0E079545F43E4B00CC912F8228DDCC6D19C9F0F69BBB0542EDA0FC9DEC916A20B15DC0FD2EDEDDA39142311A5001D\n",
    "coef_yd[3]=0x16B7D288798E5395F20D23BF89EDB4D1D115C5DBDDBCD30E123DA489E726AF41727364F2C28297ADA8D26D98445F5416\n",
    "coef_yd[2]=0x058DF3306640DA276FAAAE7D6E8EB15778C4855551AE7F310C35A5DD279CD2ECA6757CD636F96F891E2538B53DBF67F2\n",
    "coef_yd[1]=0x1962D75C2381201E1A0CBD6C43C348B885C84FF731C4D59CA4A10356F453E01F78A4260763529E3532F6102C2E49A03D\n",
    "coef_yd[0]=0x16112C4C3A9C98B252181140FAD0EAE9601A6DE578980BE6EEC3232B5BE72E7A07F3688EF60C206D01479253B03663C1"
   ]
  },
  {
   "cell_type": "code",
   "execution_count": 4,
   "id": "be90dd12",
   "metadata": {},
   "outputs": [],
   "source": [
    "def ep_iso(x,y,z):\n",
    "    t0=coef_xn[deg_xn-1]\n",
    "    for i in range(deg_xn-1,0,-1):\n",
    "        t0=fp_mul(t0,x)\n",
    "        t0=fp_add(t0,coef_xn[i-1])\n",
    "    t1=coef_yn[deg_yn-1]\n",
    "    for i in range(deg_yn-1,0,-1):\n",
    "        t1=fp_mul(t1,x)\n",
    "        t1=fp_add(t1,coef_yn[i-1])\n",
    "    t2=coef_yd[deg_yd-1]\n",
    "    for i in range(deg_yd-1,0,-1):\n",
    "        t2=fp_mul(t2,x)\n",
    "        t2=fp_add(t2,coef_yd[i-1])\n",
    "    t3=coef_xd[deg_xd-1]\n",
    "    for i in range(deg_xd-1,0,-1):\n",
    "        t3=fp_mul(t3,x)\n",
    "        t3=fp_add(t3,coef_xd[i-1])\n",
    "    \n",
    "#     fp_print(t0)\n",
    "#     fp_print(t1)\n",
    "#     fp_print(t2)\n",
    "#     fp_print(t3)\n",
    "    \n",
    "    #PROJ coord for \"fp\"\n",
    "    zo=fp_mul(t2,t3)\n",
    "    xo=fp_mul(t0,t2)\n",
    "    yo=fp_mul(y,t1)\n",
    "    yo=fp_mul(yo,t3)\n",
    "    \n",
    "    return xo,yo,zo"
   ]
  },
  {
   "cell_type": "code",
   "execution_count": 5,
   "id": "b6e1a090",
   "metadata": {},
   "outputs": [],
   "source": [
    "def map_invoke(inp_bin):\n",
    "    fp = inp_bin % p\n",
    "    x,y=sswu_map(fp)\n",
    "    if(fp_sgn0(fp)!=fp_sgn0(y)):\n",
    "        y=fp_neg(y)\n",
    "    xo,yo,zo = ep_iso(x,y,1)\n",
    "    return xo,yo,zo"
   ]
  },
  {
   "cell_type": "code",
   "execution_count": 6,
   "id": "07a43589",
   "metadata": {},
   "outputs": [
    {
     "name": "stdout",
     "output_type": "stream",
     "text": [
      "0X005AEE59DEEF725A07535B75D074DB77FC54D8A50530161B002BDEF5CF4FC9E0FD89D2C85B0A1BA43F4A3935DCBB7940\n",
      "0X09AE0134F5269B7AC52E271F86E8CBBCE06C7C2E97672EF545CE172FCB9EF0DA22B8EF4E0ACC4BE05FE565DDB1CA110D\n",
      "0X0C95E75140565558E3064FDF0B0C57B8219A445BC4B18ACDA1306A4B45412774C0DA4859E56A972ECDD2C57D25896557\n"
     ]
    }
   ],
   "source": [
    "inp_bin = 0x6F781F714FA54385C8A27A5DC4DBE38B5B67C99427FB17E3112F06E16FB793D5C8975CD97D5743531AE6BB3635BBB9A3B3321BD4E48F4B78F4CD310A7909B227\n",
    "xo,yo,zo = map_invoke(inp_bin)\n",
    "fp_print(xo)\n",
    "fp_print(yo)\n",
    "fp_print(zo)"
   ]
  },
  {
   "cell_type": "code",
   "execution_count": 7,
   "id": "36534f13",
   "metadata": {},
   "outputs": [
    {
     "name": "stdout",
     "output_type": "stream",
     "text": [
      "0X12E458461B1130B72BD983C8C84E1C9EC421E0A098A5421BE7A389EAA6A1EBF119703F817AD4C7F2B6543EA5262746E1\n",
      "0X0C63BE96223A13ACA250E2B1F9FBE10F917E4C778B45CDE7B6F68804D4D832073DF15D473587ECDCF56AED287E9E98E0\n",
      "0X0CA879E3F8AD7EA166DEF394747A7CD3042954ABC8C6FA769EC6E3CC4B332635E9234CA4A2056C06AC076AFF8DBFB657\n"
     ]
    }
   ],
   "source": [
    "inp_bin = 0xCFB0A90719E73FA700A44095B8F3A79FF41173B91654154A3D98B1825CAE73D7A19EE7A127297CCA748F5C07ABCAB092B6A37CD000C99DB95C437D5C9FBB1266\n",
    "xo,yo,zo = map_invoke(inp_bin)\n",
    "fp_print(xo)\n",
    "fp_print(yo)\n",
    "fp_print(zo)"
   ]
  },
  {
   "cell_type": "code",
   "execution_count": 8,
   "id": "b6eb1abe",
   "metadata": {},
   "outputs": [],
   "source": [
    "def ep_add(px,py,pz,qx,qy,qz): #ep_add_projc_imp\n",
    "#     px=p[0]\n",
    "#     py=p[1]\n",
    "#     pz=p[2]\n",
    "#     qx=q[0]\n",
    "#     qy=q[1]\n",
    "#     qz=q[2]\n",
    "    t0=fp_mul(px,qx)\n",
    "    t1=fp_mul(py,qy)\n",
    "    t2=fp_mul(pz,qz)\n",
    "    t3=fp_add(px,py)\n",
    "    t4=fp_add(qx,qy)\n",
    "    t3=fp_mul(t3,t4)\n",
    "    t4=fp_add(t0,t1)\n",
    "    t3=fp_sub(t3,t4)\n",
    "    # (ep_curve_opt_a() == RLC_ZERO)\n",
    "    # /* Cost of 12M + 2m_3b + 19a. */\n",
    "    t4=fp_add(py,pz)\n",
    "    t5=fp_add(qy,qz)\n",
    "    t4=fp_mul(t4,t5)\n",
    "    t5=fp_add(t1,t2)\n",
    "    t4=fp_sub(t4,t5)\n",
    "    ry=fp_add(qx,qz)\n",
    "    rx=fp_add(px,pz)\n",
    "    rx=fp_mul(rx,ry)\n",
    "    ry=fp_add(t0,t2)\n",
    "    ry=fp_sub(rx,ry)\n",
    "    rx=fp_add(t0,t0) #fp_dbl\n",
    "    t0=fp_add(t0,rx)\n",
    "    t2=fp_mul(t2,0xC)\n",
    "    rz=fp_add(t1,t2)\n",
    "    t1=fp_sub(t1,t2)\n",
    "    ry=fp_mul(ry,0xC)\n",
    "    rx=fp_mul(t4,ry)\n",
    "    t2=fp_mul(t3,t1)\n",
    "    rx=fp_sub(t2,rx)\n",
    "    ry=fp_mul(t0,ry)\n",
    "    t1=fp_mul(t1,rz)\n",
    "    ry=fp_add(t1,ry)\n",
    "    t0=fp_mul(t0,t3)\n",
    "    rz=fp_mul(rz,t4)\n",
    "    rz=fp_add(rz,t0)\n",
    "    return rx,ry,rz"
   ]
  },
  {
   "cell_type": "code",
   "execution_count": 9,
   "id": "1838f9da",
   "metadata": {},
   "outputs": [
    {
     "name": "stdout",
     "output_type": "stream",
     "text": [
      "0X1675771BB08C370DC2CFA499B7729D65C6E7766219777C770CCD3C1F1C7B8B1FF9877A24BEFA8379696372FC2BA1FF03\n",
      "0X0F325A4C56ABB1FA154003830D9FF5494A8ECBDDA8407A8211339B0406AB54DA23934A2DD203978DD85A824E5A9BB75A\n",
      "0X1758EB6F7159FB13EBE631722CF4EF553A29F4771AEFEAE01CF276C1FF41F932794A27686DA7DD87D7B31CB852563262\n"
     ]
    }
   ],
   "source": [
    "# p=[None]*3\n",
    "# q=[None]*3\n",
    "\n",
    "# p[0]=0X005AEE59DEEF725A07535B75D074DB77FC54D8A50530161B002BDEF5CF4FC9E0FD89D2C85B0A1BA43F4A3935DCBB7940\n",
    "# p[1]=0X09AE0134F5269B7AC52E271F86E8CBBCE06C7C2E97672EF545CE172FCB9EF0DA22B8EF4E0ACC4BE05FE565DDB1CA110D\n",
    "# p[2]=0X0C95E75140565558E3064FDF0B0C57B8219A445BC4B18ACDA1306A4B45412774C0DA4859E56A972ECDD2C57D25896557\n",
    "# q[0]=0X12E458461B1130B72BD983C8C84E1C9EC421E0A098A5421BE7A389EAA6A1EBF119703F817AD4C7F2B6543EA5262746E1\n",
    "# q[1]=0X0C63BE96223A13ACA250E2B1F9FBE10F917E4C778B45CDE7B6F68804D4D832073DF15D473587ECDCF56AED287E9E98E0\n",
    "# q[2]=0X0CA879E3F8AD7EA166DEF394747A7CD3042954ABC8C6FA769EC6E3CC4B332635E9234CA4A2056C06AC076AFF8DBFB657\n",
    "px=0X005AEE59DEEF725A07535B75D074DB77FC54D8A50530161B002BDEF5CF4FC9E0FD89D2C85B0A1BA43F4A3935DCBB7940\n",
    "py=0X09AE0134F5269B7AC52E271F86E8CBBCE06C7C2E97672EF545CE172FCB9EF0DA22B8EF4E0ACC4BE05FE565DDB1CA110D\n",
    "pz=0X0C95E75140565558E3064FDF0B0C57B8219A445BC4B18ACDA1306A4B45412774C0DA4859E56A972ECDD2C57D25896557\n",
    "qx=0X12E458461B1130B72BD983C8C84E1C9EC421E0A098A5421BE7A389EAA6A1EBF119703F817AD4C7F2B6543EA5262746E1\n",
    "qy=0X0C63BE96223A13ACA250E2B1F9FBE10F917E4C778B45CDE7B6F68804D4D832073DF15D473587ECDCF56AED287E9E98E0\n",
    "qz=0X0CA879E3F8AD7EA166DEF394747A7CD3042954ABC8C6FA769EC6E3CC4B332635E9234CA4A2056C06AC076AFF8DBFB657\n",
    "rx,ry,rz = ep_add(px,py,pz,qx,qy,qz)\n",
    "fp_print(rx)\n",
    "fp_print(ry)\n",
    "fp_print(rz)"
   ]
  },
  {
   "cell_type": "code",
   "execution_count": 11,
   "id": "bfa8ab69",
   "metadata": {},
   "outputs": [
    {
     "name": "stdout",
     "output_type": "stream",
     "text": [
      "0X1220CD562D296F6DF9CA4BC7A9C6880522D04F7C244979A2AE485D770776FC52F14178F0A8623B6634A3D8C2D8B05AC3\n",
      "0X0AD74FA40477DB08859A764F72362A8229E30649FBF04121EC30C3AB45C1736278CC4F867679A9414E9F266F0AEA66C4\n",
      "0X000000000000000000000000000000000000000000000000000000000000000000000000000000000000000000000001\n"
     ]
    }
   ],
   "source": [
    "xx,yy,zz=ep_norm(rx,ry,rz)\n",
    "fp_print(xx)\n",
    "fp_print(yy)\n",
    "fp_print(zz)"
   ]
  },
  {
   "cell_type": "code",
   "execution_count": 16,
   "id": "374308b9",
   "metadata": {},
   "outputs": [],
   "source": [
    "def ep_mul_naf(x,y,z,k):\n",
    "    tab=[[None,None,None]]*4 #EP_WIDTH = 4\n",
    "    tab[0][0],tab[0][1],tab[0][2]=ep_add(x,y,z,x,y,z)\n",
    "    tab[1][0],tab[1][1],tab[1][2]=ep_add(tab[0][0],tab[0][1],tab[0][2],x,y,z)\n",
    "    fp_print(tab[1][0])\n",
    "    tab[2][0],tab[2][1],tab[2][2]=ep_add(tab[1][0],tab[1][1],tab[1][2],tab[0][0],tab[0][1],tab[0][2])\n",
    "    tab[3][0],tab[3][1],tab[3][2]=ep_add(tab[2][0],tab[2][1],tab[2][2],tab[1][0],tab[1][1],tab[1][2])\n",
    "    tab[0][0]=x\n",
    "    tab[0][1]=y\n",
    "    tab[0][2]=z\n",
    "    fp_print(x)\n",
    "    fp_print(tab[1][0])\n",
    "    fp_print(tab[2][0])\n",
    "    fp_print(tab[3][0])"
   ]
  },
  {
   "cell_type": "code",
   "execution_count": 20,
   "id": "4ff5d56b",
   "metadata": {},
   "outputs": [
    {
     "name": "stdout",
     "output_type": "stream",
     "text": [
      "<class 'dict'>\n"
     ]
    }
   ],
   "source": [
    "thisdict = {\n",
    "  \"brand\": 1,\n",
    "  \"x\": 2,\n",
    "  \"year\": 1964\n",
    "}\n",
    "print(type(thisdict))"
   ]
  },
  {
   "cell_type": "code",
   "execution_count": 21,
   "id": "becddb8a",
   "metadata": {},
   "outputs": [
    {
     "data": {
      "text/plain": [
       "2"
      ]
     },
     "execution_count": 21,
     "metadata": {},
     "output_type": "execute_result"
    }
   ],
   "source": [
    "thisdict[\"x\"]"
   ]
  },
  {
   "cell_type": "code",
   "execution_count": 24,
   "id": "6341e70b",
   "metadata": {},
   "outputs": [
    {
     "name": "stdout",
     "output_type": "stream",
     "text": [
      "Point(x=1.5, y=2.5, z=0.0)\n"
     ]
    }
   ],
   "source": [
    "from dataclasses import dataclass\n",
    "@dataclass\n",
    "class Point:\n",
    "    x: float\n",
    "    y: float\n",
    "    z: float = 0.0\n",
    "\n",
    "\n",
    "p = Point(1.5, 2.5)\n",
    "\n",
    "print(p)"
   ]
  },
  {
   "cell_type": "code",
   "execution_count": 51,
   "id": "a513c185",
   "metadata": {},
   "outputs": [
    {
     "data": {
      "text/plain": [
       "__main__.Point"
      ]
     },
     "execution_count": 51,
     "metadata": {},
     "output_type": "execute_result"
    }
   ],
   "source": [
    "type(p)"
   ]
  },
  {
   "cell_type": "code",
   "execution_count": 39,
   "id": "99bea66d",
   "metadata": {},
   "outputs": [],
   "source": [
    "p.x =4"
   ]
  },
  {
   "cell_type": "code",
   "execution_count": 40,
   "id": "665686db",
   "metadata": {},
   "outputs": [
    {
     "name": "stdout",
     "output_type": "stream",
     "text": [
      "Point(x=4, y=2.5, z=0.0)\n"
     ]
    }
   ],
   "source": [
    "print(p)"
   ]
  },
  {
   "cell_type": "code",
   "execution_count": 41,
   "id": "7a167c8d",
   "metadata": {},
   "outputs": [],
   "source": [
    "L=[0,0,0]\n",
    "L[0]=Point(1,2)"
   ]
  },
  {
   "cell_type": "code",
   "execution_count": 44,
   "id": "42f7323c",
   "metadata": {},
   "outputs": [
    {
     "name": "stdout",
     "output_type": "stream",
     "text": [
      "0\n"
     ]
    }
   ],
   "source": [
    "print(L[1])"
   ]
  },
  {
   "cell_type": "code",
   "execution_count": 26,
   "id": "344c2520",
   "metadata": {},
   "outputs": [],
   "source": [
    "from typing import NamedTuple\n",
    "\n",
    "\n",
    "class User(NamedTuple):\n",
    "    name: str\n",
    "\n",
    "\n",
    "class MyStruct(NamedTuple):\n",
    "    foo: str\n",
    "    bar: int\n",
    "    baz: list\n",
    "    qux: User\n",
    "        \n",
    "class ep_t(NamedTuple):\n",
    "    x:int\n",
    "    y:int\n",
    "    z:int\n",
    "    coord:str"
   ]
  },
  {
   "cell_type": "code",
   "execution_count": 27,
   "id": "585f11d0",
   "metadata": {},
   "outputs": [],
   "source": [
    "my_item = ep_t(1, 0, 2, 'peter')"
   ]
  },
  {
   "cell_type": "code",
   "execution_count": 28,
   "id": "0748161c",
   "metadata": {},
   "outputs": [
    {
     "name": "stdout",
     "output_type": "stream",
     "text": [
      "ep_t(x=1, y=0, z=2, coord='peter')\n"
     ]
    }
   ],
   "source": [
    "print(my_item)"
   ]
  },
  {
   "cell_type": "code",
   "execution_count": 38,
   "id": "62d124f3",
   "metadata": {},
   "outputs": [
    {
     "ename": "AttributeError",
     "evalue": "can't set attribute",
     "output_type": "error",
     "traceback": [
      "\u001b[0;31m---------------------------------------------------------------------------\u001b[0m",
      "\u001b[0;31mAttributeError\u001b[0m                            Traceback (most recent call last)",
      "\u001b[0;32m<ipython-input-38-ab56141bd4cb>\u001b[0m in \u001b[0;36m<module>\u001b[0;34m\u001b[0m\n\u001b[0;32m----> 1\u001b[0;31m \u001b[0mmy_item\u001b[0m\u001b[0;34m.\u001b[0m\u001b[0mx\u001b[0m \u001b[0;34m=\u001b[0m \u001b[0;36m3\u001b[0m\u001b[0;34m\u001b[0m\u001b[0;34m\u001b[0m\u001b[0m\n\u001b[0m",
      "\u001b[0;31mAttributeError\u001b[0m: can't set attribute"
     ]
    }
   ],
   "source": [
    "my_item.x = 3"
   ]
  },
  {
   "cell_type": "code",
   "execution_count": 53,
   "id": "88b213ec",
   "metadata": {},
   "outputs": [],
   "source": [
    "def ep_print(p:Point):\n",
    "    print(p.x)\n",
    "    print(p.y)\n",
    "    print(p.z)"
   ]
  },
  {
   "cell_type": "code",
   "execution_count": 55,
   "id": "69450ea4",
   "metadata": {},
   "outputs": [
    {
     "name": "stdout",
     "output_type": "stream",
     "text": [
      "4\n",
      "2.5\n",
      "0.0\n"
     ]
    }
   ],
   "source": [
    "ep_print(p)"
   ]
  },
  {
   "cell_type": "code",
   "execution_count": 17,
   "id": "d04d395b",
   "metadata": {},
   "outputs": [
    {
     "name": "stdout",
     "output_type": "stream",
     "text": [
      "0X13AC28FAD560A8C717C0C9DD5898021879FF4CEF8C3D347CE8738E9DD017E9F7AD30F39EB34580F6E1499D7A5E6B8514\n",
      "0X1220CD562D296F6DF9CA4BC7A9C6880522D04F7C244979A2AE485D770776FC52F14178F0A8623B6634A3D8C2D8B05AC3\n",
      "0X1220CD562D296F6DF9CA4BC7A9C6880522D04F7C244979A2AE485D770776FC52F14178F0A8623B6634A3D8C2D8B05AC3\n",
      "0X1220CD562D296F6DF9CA4BC7A9C6880522D04F7C244979A2AE485D770776FC52F14178F0A8623B6634A3D8C2D8B05AC3\n",
      "0X1220CD562D296F6DF9CA4BC7A9C6880522D04F7C244979A2AE485D770776FC52F14178F0A8623B6634A3D8C2D8B05AC3\n"
     ]
    }
   ],
   "source": [
    "ep_mul_naf(xx,yy,zz,-u+1)"
   ]
  },
  {
   "cell_type": "code",
   "execution_count": 58,
   "id": "977045b9",
   "metadata": {},
   "outputs": [
    {
     "name": "stdout",
     "output_type": "stream",
     "text": [
      "4\n"
     ]
    }
   ],
   "source": [
    "def func_test(s:str):\n",
    "    print(s)\n",
    "    \n",
    "func_test(2+2)"
   ]
  },
  {
   "cell_type": "code",
   "execution_count": null,
   "id": "3d72edae",
   "metadata": {},
   "outputs": [],
   "source": []
  },
  {
   "cell_type": "code",
   "execution_count": null,
   "id": "578297a5",
   "metadata": {},
   "outputs": [],
   "source": [
    "bls = 1\n",
    "# p is max value of interger in prime field\n",
    "p = 0x1a0111ea397fe69a4b1ba7b6434bacd764774b84f38512bf6730d2a0f6b0f6241eabfffeb153ffffb9feffffffffaaab\n",
    "# r is max number of point in curve (curve order)\n",
    "r = 0x73eda753299d7d483339d80809a1d80553bda402fffe5bfeffffffff00000001\n",
    "# u is special number for BLS curve\n",
    "u = -0xd201000000010000\n",
    "\n",
    "R = 2**381\n",
    "montgomery_inv = pow(R, p-2, p)\n",
    "\n",
    "def mul(x, y):\n",
    "    return (x*y % p)*montgomery_inv % p\n",
    "\n",
    "def addFp2(a, b):\n",
    "    new_i = (a[0]+b[0]) % p\n",
    "    new_r = (a[1]+b[1]) % p\n",
    "    return [new_i, new_r]\n",
    "\n",
    "\n",
    "def subFp2(a, b):\n",
    "    new_i = (a[0]-b[0]) % p\n",
    "    new_r = (a[1]-b[1]) % p\n",
    "    return [new_i, new_r]\n",
    "\n",
    "\n",
    "def mulFp2(a, b):\n",
    "    new_r = (mul(a[1], b[1])-mul(a[0], b[0])) % p\n",
    "    new_i = (mul(a[0], b[1])+mul(a[1], b[0])) % p\n",
    "    return [new_i, new_r]\n",
    "\n",
    "def point_add(P, Q):\n",
    "    if(P==[[0,0],[0,0],[0,0]]):\n",
    "        return Q\n",
    "    elif (Q==[[0,0],[0,0],[0,0]]):\n",
    "        return P\n",
    "    else:\n",
    "        xp = P[0]\n",
    "        yp = P[1]\n",
    "        zp = P[2]\n",
    "        xq = Q[0]\n",
    "        yq = Q[1]\n",
    "        zq = Q[2]\n",
    "        t0 = mulFp2(yp, zq)\n",
    "        t1 = mulFp2(xp, zq)\n",
    "        t2 = mulFp2(zp, zq)\n",
    "        t3 = mulFp2(yq, zp)\n",
    "        t4 = subFp2(t3, t0)\n",
    "        t5 = mulFp2(t4, t4)\n",
    "        t6 = mulFp2(xq, zp)\n",
    "        t7 = subFp2(t6, t1)\n",
    "        t8 = mulFp2(t7, t7)\n",
    "        t9 = mulFp2(t7, t8)\n",
    "        t10 = mulFp2(t8, t1)\n",
    "        t11 = mulFp2(t5, t2)\n",
    "        t12 = subFp2(t11, t9)\n",
    "        t13 = addFp2(t10, t10)\n",
    "        A = subFp2(t12, t13)\n",
    "        X3 = mulFp2(t7, A)\n",
    "        t14 = subFp2(t10, A)\n",
    "        t15 = mulFp2(t4, t14)\n",
    "        t16 = mulFp2(t9, t0)\n",
    "        Y3 = subFp2(t15, t16)\n",
    "        Z3 = mulFp2(t9, t2)\n",
    "        return [X3, Y3, Z3]\n",
    "\n",
    "def point_dbl(P):\n",
    "    if(P==[[0,0],[0,0],[0,0]]):\n",
    "        return P\n",
    "    else:\n",
    "        X1 = P[0]\n",
    "        Y1 = P[1]\n",
    "        Z1 = P[2]\n",
    "        XX = mulFp2(X1, X1)\n",
    "        ZZ = mulFp2(Z1, Z1)\n",
    "        t0 = addFp2(XX, XX)\n",
    "        w = addFp2(t0, XX)\n",
    "        t1 = mulFp2(Y1, Z1)\n",
    "        s = addFp2(t1, t1)\n",
    "        ss = mulFp2(s, s)\n",
    "        Z3 = mulFp2(ss, s)\n",
    "        R = mulFp2(Y1, s)\n",
    "        RR = mulFp2(R, R)\n",
    "        t2 = addFp2(X1, R)\n",
    "        t3 = mulFp2(t2, t2)\n",
    "        t4 = subFp2(t3, XX)\n",
    "        B = subFp2(t4, RR)\n",
    "        t5 = mulFp2(w, w)\n",
    "        t6 = addFp2(B, B)\n",
    "        h = subFp2(t5, t6)\n",
    "        X3 = mulFp2(h, s)\n",
    "        t7 = subFp2(B, h)\n",
    "        t8 = mulFp2(w, t7)\n",
    "        t9 = addFp2(RR, RR)\n",
    "        Y3 = subFp2(t8, t9)\n",
    "        return [X3, Y3, Z3]\n",
    "\n",
    "def MontConvInv(a):\n",
    "    c = (a*montgomery_inv) % p\n",
    "    return c\n",
    "\n",
    "def MontConv(a):\n",
    "    t = (a * R) % p\n",
    "    return t\n",
    "\n",
    "def bits_of(k):\n",
    "    return [int(c) for c in \"{0:b}\".format(k)]\n",
    "\n",
    "def invFp2(a):\n",
    "    b = (mul(a[0], a[0])+mul(a[1], a[1])) % p\n",
    "    c = pow(b, p-2, p)\n",
    "    # montgomery変換の補正 1/(c*R) * R**2 = (1/c)*R\n",
    "    c = (c*R % p)*R % p\n",
    "    new_i = (p-mul(a[0], c)) % p\n",
    "    new_r = mul(a[1], c) % p\n",
    "    return [new_i, new_r]\n",
    "\n",
    "def scalar_mul_G2(k, T):\n",
    "    R = T\n",
    "    for kb in bits_of(k)[1:]:\n",
    "        R = point_dbl(R)\n",
    "        if(kb == 1):\n",
    "            R = point_add(R, T)\n",
    "    return R\n",
    "\n",
    "def change_to_affine(Q):\n",
    "    # 射影座標(X,Y,Z)のZ座標を1に補正する　X,Y座標を取り出せばそのままアフィン座標\n",
    "    # Montgomery 空間中\n",
    "    zinv = invFp2(Q[2])\n",
    "    xaff = mulFp2(Q[0], zinv)\n",
    "    yaff = mulFp2(Q[1], zinv)\n",
    "    return [xaff, yaff, [0, MontConv(1)]]"
   ]
  },
  {
   "cell_type": "code",
   "execution_count": null,
   "id": "ff54f026",
   "metadata": {},
   "outputs": [],
   "source": [
    "px=0x170e404cb3aba12ba16eb33f16f328cb5078b433defc7ca7b035bd2cb91f6cded2069e8f8c0be7534f7a311d3924865e\n",
    "py=0x196aa2758c4296d097d97f6c0cfaa67efe36661a0af74b89153a3c0397d6783a03b2c7df9e4ec72c4ba90e9ed51dce2f\n",
    "qx_r=0x16d31ceaae1d46897e7ebc1e95f5b057aa187b47ee76f081a1d4cf89289366ad79706f7ab518d87d30c0d89bfa795694\n",
    "qx_i=0x1043c7daad38ce03def424935ff68993096bd7f9e752fc25f87eb74a6bedb6e9672e06cb952628afd0ae83ba7b784a2c\n",
    "qy_r=0x6b70372d8aac1b68acc6b156e8674eaaf7e5a1cc51deb1b5ea3e0702f7bb7bb8606f0f51efecd1ba6d064e43fc04f1a\n",
    "qy_i=0x85c448ecdfb2942cec89d5eaeb03bf0bf203507c7833b034af7800f85bfba7b2fded434e91bddd290d0ff144c30216f\n",
    "\n",
    "\n",
    "P = [[0, MontConv(px)], [0, MontConv(py)], [MontConv(0), MontConv(1)]]\n",
    "Q = [[MontConv(qx_i), MontConv(qx_r)], [MontConv(qy_i), MontConv(qy_r)], [MontConv(0), MontConv(1)]]\n",
    "\n",
    "b1 = 0x7CC4F7D7D3879D4284976BFFA219E566C1824F871E968A4477ABAB46DC907C6\n",
    "b2 = 0x10A286169510B8B2612621F2C34C09EA8554195929A57B9718101293DE53D0C3\n",
    "b3 = 0x561124E70B9F77B313F66C32F188DE72047FE28CBB4A3990D54C375FBC8BF8E2\n",
    "b4 = 0x3658105680CCE9174F05423C534F60E0345DCE5BB58EB3C260633D3D09766313\n"
   ]
  },
  {
   "cell_type": "code",
   "execution_count": null,
   "id": "44d150c7",
   "metadata": {},
   "outputs": [],
   "source": [
    "print (\"{0:#0{1}X}\".format(MontConv(1),98))"
   ]
  },
  {
   "cell_type": "code",
   "execution_count": null,
   "id": "7d173223",
   "metadata": {},
   "outputs": [],
   "source": [
    "print(\"b1\")\n",
    "result_g1 = change_to_affine(scalar_mul_G2(b1, P))\n",
    "result_g2 = change_to_affine(scalar_mul_G2(b1, Q))\n",
    "\n",
    "#MontConvInv\n",
    "result_g1_montinv=[]\n",
    "result_g2_montinv=[]\n",
    "for i in range(3):\n",
    "    result_g1_montinv.append([MontConvInv(result_g1[i][1]),MontConvInv(result_g1[i][0])])\n",
    "    result_g2_montinv.append([MontConvInv(result_g2[i][1]),MontConvInv(result_g2[i][0])])\n",
    "\n",
    "print(\"G1 Point Double after MontInv:\")\n",
    "for i in range(3):\n",
    "\tprint (\"{0:#0{1}X}\".format(result_g1_montinv[i][0],98))\n",
    "\t# print (\"{0:#0{1}X}\".format(result_g1_montinv[i][1],98))\n",
    "\n",
    "print(\"G2 Point Double after MontInv:\")\n",
    "for i in range(3):\n",
    "\tprint (\"{0:#0{1}X}\".format(result_g2_montinv[i][0],98))\n",
    "\tprint (\"{0:#0{1}X}\".format(result_g2_montinv[i][1],98))"
   ]
  },
  {
   "cell_type": "code",
   "execution_count": null,
   "id": "b1589aa1",
   "metadata": {},
   "outputs": [],
   "source": [
    "for x in [1]:\n",
    "    print(x)"
   ]
  },
  {
   "cell_type": "code",
   "execution_count": null,
   "id": "d2f93c15",
   "metadata": {},
   "outputs": [],
   "source": [
    "def scalar_mul_G2_mont(k, T):\n",
    "    R0 = [[0,0],[0,0],[0,0]]\n",
    "    R1 = T\n",
    "    for kb in bits_of(k):\n",
    "        if(kb == 0):\n",
    "            R1 = point_add(R0, R1)\n",
    "            R0 = point_dbl(R0)\n",
    "        if(kb == 1):\n",
    "            R0 = point_add(R0, R1)\n",
    "            R1 = point_dbl(R1)\n",
    "    return R0"
   ]
  },
  {
   "cell_type": "code",
   "execution_count": null,
   "id": "8a39988e",
   "metadata": {},
   "outputs": [],
   "source": [
    "print(\"b1\")\n",
    "result_g1 = change_to_affine(scalar_mul_G2_mont(b1, P))\n",
    "result_g2 = change_to_affine(scalar_mul_G2_mont(b1, Q))\n",
    "\n",
    "#MontConvInv\n",
    "result_g1_montinv=[]\n",
    "result_g2_montinv=[]\n",
    "for i in range(3):\n",
    "    result_g1_montinv.append([MontConvInv(result_g1[i][1]),MontConvInv(result_g1[i][0])])\n",
    "    result_g2_montinv.append([MontConvInv(result_g2[i][1]),MontConvInv(result_g2[i][0])])\n",
    "\n",
    "print(\"G1 Point Double after MontInv:\")\n",
    "for i in range(3):\n",
    "\tprint (\"{0:#0{1}X}\".format(result_g1_montinv[i][0],98))\n",
    "\t# print (\"{0:#0{1}X}\".format(result_g1_montinv[i][1],98))\n",
    "\n",
    "print(\"G2 Point Double after MontInv:\")\n",
    "for i in range(3):\n",
    "\tprint (\"{0:#0{1}X}\".format(result_g2_montinv[i][0],98))\n",
    "\tprint (\"{0:#0{1}X}\".format(result_g2_montinv[i][1],98))"
   ]
  },
  {
   "cell_type": "code",
   "execution_count": null,
   "id": "b7fb8779",
   "metadata": {},
   "outputs": [],
   "source": [
    "R0 = [[0,0],[0,0],[0,0]]\n",
    "point_add(R0, Q)"
   ]
  },
  {
   "cell_type": "code",
   "execution_count": null,
   "id": "88ca836c",
   "metadata": {},
   "outputs": [],
   "source": [
    "Q"
   ]
  },
  {
   "cell_type": "code",
   "execution_count": null,
   "id": "85514a0e",
   "metadata": {},
   "outputs": [],
   "source": [
    "point_dbl([[0,0],[0,0],[0,0]])"
   ]
  },
  {
   "cell_type": "code",
   "execution_count": null,
   "id": "56cd2d94",
   "metadata": {},
   "outputs": [],
   "source": [
    "xx=scalar_mul_G2_mont(b1, Q)\n",
    "for i in range(3):\n",
    "\tprint (\"{0:#0{1}X}\".format(xx[i][0],98))\n",
    "\tprint (\"{0:#0{1}X}\".format(xx[i][1],98))"
   ]
  },
  {
   "cell_type": "code",
   "execution_count": null,
   "id": "a85a35e4",
   "metadata": {},
   "outputs": [],
   "source": [
    "def printFp2(a):\n",
    "    print (\"{0:#0{1}X}\".format(a[0],98))\n",
    "    print (\"{0:#0{1}X}\".format(a[1],98))"
   ]
  },
  {
   "cell_type": "code",
   "execution_count": null,
   "id": "817a336d",
   "metadata": {},
   "outputs": [],
   "source": [
    "R0 = [[0,0],[0,0],[0,0]]\n",
    "R1 = Q"
   ]
  },
  {
   "cell_type": "code",
   "execution_count": null,
   "id": "85d406f9",
   "metadata": {},
   "outputs": [],
   "source": [
    "#case 0\n",
    "R1 = point_add(R0, R1)\n",
    "R0 = point_dbl(R0)"
   ]
  },
  {
   "cell_type": "code",
   "execution_count": null,
   "id": "6da4b684",
   "metadata": {},
   "outputs": [],
   "source": [
    "#case 1\n",
    "R0 = point_add(R0, R1)\n",
    "R1 = point_dbl(R1)"
   ]
  },
  {
   "cell_type": "code",
   "execution_count": null,
   "id": "42c1fd0d",
   "metadata": {},
   "outputs": [],
   "source": [
    "printFp2(R1[0])\n",
    "printFp2(R1[1])\n",
    "printFp2(R1[2])\n",
    "printFp2(R0[0])\n",
    "printFp2(R0[1])\n",
    "printFp2(R0[2])"
   ]
  },
  {
   "cell_type": "code",
   "execution_count": null,
   "id": "3701afda",
   "metadata": {},
   "outputs": [],
   "source": []
  }
 ],
 "metadata": {
  "kernelspec": {
   "display_name": "Python 3",
   "language": "python",
   "name": "python3"
  },
  "language_info": {
   "codemirror_mode": {
    "name": "ipython",
    "version": 3
   },
   "file_extension": ".py",
   "mimetype": "text/x-python",
   "name": "python",
   "nbconvert_exporter": "python",
   "pygments_lexer": "ipython3",
   "version": "3.6.8"
  }
 },
 "nbformat": 4,
 "nbformat_minor": 5
}
