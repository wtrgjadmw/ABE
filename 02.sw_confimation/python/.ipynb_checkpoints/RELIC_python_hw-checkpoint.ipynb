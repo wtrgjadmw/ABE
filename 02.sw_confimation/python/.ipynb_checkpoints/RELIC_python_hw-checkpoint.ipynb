{
 "cells": [
  {
   "cell_type": "code",
   "execution_count": 1,
   "id": "f16b82bc",
   "metadata": {},
   "outputs": [],
   "source": [
    "from ECC_inc import *"
   ]
  },
  {
   "cell_type": "code",
   "execution_count": null,
   "id": "8ce00be0",
   "metadata": {},
   "outputs": [],
   "source": [
    "t0=ep2_inf()\n",
    "t1=ep2_inf()\n",
    "t0.x.r=0x11354B47AAA486D2D8AFE36A6A0F3CD9181EE07C1A63C4B935B93F816ADB62673519EB44D6EF0026A30ABAA81C849116\n",
    "t0.x.i=0x0B26DBE028DB702CCF65C24716AEF4543553CE150FDB8AA9B3BAAAE44A8DB38FA4F1A7AC45465C735AB508EABC4D7B88\n",
    "t0.y.r=0x0A1B5BF9B26BF8852DD42F99E48DC89875DB51A6D11C44B2501ADD21319F7AC7672E031AEE02BCBA89F436DB8685718C\n",
    "t0.y.i=0x1008D775B01F059F777DE7D3824017F792DC607C70A336B8DAAD30140A9BA5EFC79F35EDF9618202DBAB88B5B898ECBA\n",
    "t0.z.r=0x1\n",
    "t0.z.i=0x0\n",
    "t1.x.r=0x0ACC86D01B11E76AA6FC2C07D3A41DCA1D22BFE3BD0DDDDE8146F800C4925E456D88EE6E00F7672A805E8BB8136AAEF1\n",
    "t1.x.i=0x04947A8BC1CEACEC5B402EB15B0AE5B92B5DE63E15FD3B1AA1447C7FEABBA735C690A4767066F88206DD44D26A748958\n",
    "t1.y.r=0x0F0DB6991FC0B8FF3E6774371B4E608147E989030BDD11FD132520EF3D032F2AE9203ACA646A895A405130701455247C\n",
    "t1.y.i=0x089C04962B9AEECD8FFC135CF0DCA6E5829044483B1FE18C77527D23EB7218BB2B3A25D52B5DDC8C914C7CA56EA915CF\n",
    "t1.z.r=0x1\n",
    "t1.z.i=0x0\n",
    "print(ep2_on_curve(t0))\n",
    "print(ep2_on_curve(t1))\n",
    "r0=ep2_add(t0,t1)\n",
    "ep2_print(ep2_norm(r0))\n",
    "r1=ep2_sub(r0,t1)\n",
    "ep2_print(ep2_norm(r1))\n",
    "r0=ep2_sub(t0,t1)\n",
    "ep2_print(ep2_norm(r0))\n",
    "r0=ep2_dbl(t0)\n",
    "ep2_print(ep2_norm(r0))"
   ]
  },
  {
   "cell_type": "code",
   "execution_count": null,
   "id": "e1925dcf",
   "metadata": {},
   "outputs": [],
   "source": [
    "PX =0x17002C2EE586FE5B387348464C2C7E6ABF8ADB6689661F470880B904DE307CE9ED2E47EE7B1273FAA01A614B5B3317C7\n",
    "PY =0x0B8A3F8788AC572E4BD669093856ADFE7A387A27CB71F2FAF7EE5EFB2651BB2C27A60678E7752A327BA1F505B4F37120\n",
    "QX0 =0x0B8300D54575FCC591402A27E8203CBD60680828204B71B5B85633DC09E953AB0339EEEE48628BDD057ABD8984AE445B\n",
    "QX1 =0x17C39F0F9FB556E52B6C7706533A9CA99B7997AC2578C7D07B37B282A94CE271C4F531A0FB98BEEB86770F7933024A66\n",
    "QY0 =0x19C9EC3837BEA47586122A911C5ED2545AC0B47121FF235820697D4AB6FFE74826BB81B59374210E00A7E32CCB039088\n",
    "QY1 =0x0F719748F2D6D77A058983B5F2277055D90C1EAF04F98B38CF448F34CD7F5ECBA3C3056937BB468DAE919953F16D0A28\n",
    "p=ep_t(PX,PY,1)\n",
    "q=ep2_t(fp2_t(QX0,QX1),fp2_t(QY0,QY1),fp2_t(1,0))"
   ]
  },
  {
   "cell_type": "code",
   "execution_count": null,
   "id": "8d4a7c6a",
   "metadata": {},
   "outputs": [],
   "source": []
  },
  {
   "cell_type": "code",
   "execution_count": null,
   "id": "40869960",
   "metadata": {},
   "outputs": [],
   "source": []
  },
  {
   "cell_type": "code",
   "execution_count": null,
   "id": "ed59835a",
   "metadata": {},
   "outputs": [],
   "source": []
  },
  {
   "cell_type": "code",
   "execution_count": null,
   "id": "98ef8a04",
   "metadata": {},
   "outputs": [],
   "source": []
  },
  {
   "cell_type": "code",
   "execution_count": null,
   "id": "7d234867",
   "metadata": {},
   "outputs": [],
   "source": []
  },
  {
   "cell_type": "code",
   "execution_count": null,
   "id": "5c53ded7",
   "metadata": {},
   "outputs": [],
   "source": []
  },
  {
   "cell_type": "code",
   "execution_count": null,
   "id": "37cdc656",
   "metadata": {},
   "outputs": [],
   "source": []
  }
 ],
 "metadata": {
  "kernelspec": {
   "display_name": "Python 3",
   "language": "python",
   "name": "python3"
  },
  "language_info": {
   "codemirror_mode": {
    "name": "ipython",
    "version": 3
   },
   "file_extension": ".py",
   "mimetype": "text/x-python",
   "name": "python",
   "nbconvert_exporter": "python",
   "pygments_lexer": "ipython3",
   "version": "3.6.8"
  }
 },
 "nbformat": 4,
 "nbformat_minor": 5
}
