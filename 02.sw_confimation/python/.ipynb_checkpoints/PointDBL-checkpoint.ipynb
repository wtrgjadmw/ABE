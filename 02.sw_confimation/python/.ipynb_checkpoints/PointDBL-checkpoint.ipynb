{
 "cells": [
  {
   "cell_type": "code",
   "execution_count": 1,
   "id": "7b13fb24",
   "metadata": {},
   "outputs": [],
   "source": [
    "bls = 1\n",
    "# p is max value of interger in prime field\n",
    "p = 0x1a0111ea397fe69a4b1ba7b6434bacd764774b84f38512bf6730d2a0f6b0f6241eabfffeb153ffffb9feffffffffaaab\n",
    "# r is max number of point in curve (curve order)\n",
    "r = 0x73eda753299d7d483339d80809a1d80553bda402fffe5bfeffffffff00000001\n",
    "# u is special number for BLS curve\n",
    "u = -0xd201000000010000\n",
    "\n",
    "R = 2**381\n",
    "montgomery_inv = pow(R, p-2, p)\n",
    "\n",
    "def mul(x, y):\n",
    "    return (x*y % p)*montgomery_inv % p\n",
    "\n",
    "def addFp2(a, b):\n",
    "    new_i = (a[0]+b[0]) % p\n",
    "    new_r = (a[1]+b[1]) % p\n",
    "    return [new_i, new_r]\n",
    "\n",
    "def subFp2(a, b):\n",
    "    new_i = (a[0]-b[0]) % p\n",
    "    new_r = (a[1]-b[1]) % p\n",
    "    return [new_i, new_r]\n",
    "\n",
    "def mulFp2(a, b):\n",
    "    new_r = (mul(a[1], b[1])-mul(a[0], b[0])) % p\n",
    "    new_i = (mul(a[0], b[1])+mul(a[1], b[0])) % p\n",
    "    return [new_i, new_r]\n",
    "\n",
    "def point_dbl(P):\n",
    "    X1 = P[0]\n",
    "    Y1 = P[1]\n",
    "    Z1 = P[2]\n",
    "    XX = mulFp2(X1, X1)\n",
    "    ZZ = mulFp2(Z1, Z1)\n",
    "    t0 = addFp2(XX, XX)\n",
    "    w = addFp2(t0, XX)\n",
    "    t1 = mulFp2(Y1, Z1)\n",
    "    s = addFp2(t1, t1)\n",
    "    ss = mulFp2(s, s)\n",
    "    Z3 = mulFp2(ss, s)\n",
    "    R = mulFp2(Y1, s)\n",
    "    RR = mulFp2(R, R)\n",
    "    t2 = addFp2(X1, R)\n",
    "    t3 = mulFp2(t2, t2)\n",
    "    t4 = subFp2(t3, XX)\n",
    "    B = subFp2(t4, RR)\n",
    "    t5 = mulFp2(w, w)\n",
    "    t6 = addFp2(B, B)\n",
    "    h = subFp2(t5, t6)\n",
    "    X3 = mulFp2(h, s)\n",
    "    t7 = subFp2(B, h)\n",
    "    t8 = mulFp2(w, t7)\n",
    "    t9 = addFp2(RR, RR)\n",
    "    Y3 = subFp2(t8, t9)\n",
    "    return [X3, Y3, Z3]"
   ]
  },
  {
   "cell_type": "code",
   "execution_count": 2,
   "id": "c5f00615",
   "metadata": {},
   "outputs": [],
   "source": [
    "def MontConvInv(a):\n",
    "    c = (a*montgomery_inv) % p\n",
    "    return c\n",
    "\n",
    "def MontConv(a):\n",
    "    t = (a * R) % p\n",
    "    return t"
   ]
  },
  {
   "cell_type": "code",
   "execution_count": 3,
   "id": "0e201e92",
   "metadata": {},
   "outputs": [],
   "source": [
    "px=0x170e404cb3aba12ba16eb33f16f328cb5078b433defc7ca7b035bd2cb91f6cded2069e8f8c0be7534f7a311d3924865e\n",
    "py=0x196aa2758c4296d097d97f6c0cfaa67efe36661a0af74b89153a3c0397d6783a03b2c7df9e4ec72c4ba90e9ed51dce2f\n",
    "qx_r=0x16d31ceaae1d46897e7ebc1e95f5b057aa187b47ee76f081a1d4cf89289366ad79706f7ab518d87d30c0d89bfa795694\n",
    "qx_i=0x1043c7daad38ce03def424935ff68993096bd7f9e752fc25f87eb74a6bedb6e9672e06cb952628afd0ae83ba7b784a2c\n",
    "qy_r=0x6b70372d8aac1b68acc6b156e8674eaaf7e5a1cc51deb1b5ea3e0702f7bb7bb8606f0f51efecd1ba6d064e43fc04f1a\n",
    "qy_i=0x85c448ecdfb2942cec89d5eaeb03bf0bf203507c7833b034af7800f85bfba7b2fded434e91bddd290d0ff144c30216f\n",
    "\n",
    "\n",
    "P = [[0, MontConv(px)], [0, MontConv(py)], [MontConv(0), MontConv(1)]]\n",
    "Q = [[MontConv(qx_i), MontConv(qx_r)], [MontConv(qy_i), MontConv(qy_r)], [MontConv(0), MontConv(1)]]"
   ]
  },
  {
   "cell_type": "code",
   "execution_count": 4,
   "id": "adc779f2",
   "metadata": {},
   "outputs": [],
   "source": [
    "def printFp2(a):\n",
    "    print (\"{0:#0{1}X}\".format(a[0],98))\n",
    "    print (\"{0:#0{1}X}\".format(a[1],98))"
   ]
  },
  {
   "cell_type": "code",
   "execution_count": 5,
   "id": "4ade76b4",
   "metadata": {},
   "outputs": [],
   "source": [
    "X1 = Q[0]\n",
    "Y1 = Q[1]\n",
    "Z1 = Q[2]"
   ]
  },
  {
   "cell_type": "code",
   "execution_count": 13,
   "id": "994517e7",
   "metadata": {},
   "outputs": [],
   "source": [
    "XX = mulFp2(X1, X1)\n",
    "ZZ = mulFp2(Z1, Z1)\n",
    "t0 = addFp2(XX, XX)\n",
    "w = addFp2(t0, XX)\n",
    "t1 = mulFp2(Y1, Z1)\n",
    "s = addFp2(t1, t1)\n",
    "ss = mulFp2(s, s)\n",
    "Z3 = mulFp2(ss, s)\n",
    "R = mulFp2(Y1, s)\n",
    "RR = mulFp2(R, R)\n",
    "t2 = addFp2(X1, R)\n",
    "t3 = mulFp2(t2, t2)\n",
    "t4 = subFp2(t3, XX)\n",
    "B = subFp2(t4, RR)\n",
    "t5 = mulFp2(w, w)\n",
    "t6 = addFp2(B, B)\n",
    "h = subFp2(t5, t6)\n",
    "X3 = mulFp2(h, s)\n",
    "t7 = subFp2(B, h)\n",
    "t8 = mulFp2(w, t7)\n",
    "t9 = addFp2(RR, RR)\n",
    "Y3 = subFp2(t8, t9)"
   ]
  },
  {
   "cell_type": "code",
   "execution_count": 6,
   "id": "59b2751d",
   "metadata": {},
   "outputs": [
    {
     "name": "stdout",
     "output_type": "stream",
     "text": [
      "0X057DBEA6076BD27C63FDD1AFCFF993C3F5B320A570F94D8575042A2DBC9FDB5664D7B9D5AFB4CF6B68A28BAFCC784744\n",
      "0X0975FD79C88643C3163077490622864B4012BD7E49AB2CCC5D3A670C205C6F129C5451E1A615E6BE2ABB5190EEF15662\n"
     ]
    }
   ],
   "source": [
    "printFp2(X1)"
   ]
  },
  {
   "cell_type": "code",
   "execution_count": 7,
   "id": "78e1c3fc",
   "metadata": {},
   "outputs": [
    {
     "name": "stdout",
     "output_type": "stream",
     "text": [
      "0X19D0B2784B3F806AEB699B6D677F4C7AE84F6E5B4F30375DECF3879382DA82182BBA83A3523F33B89CD638848921A3EA\n",
      "0X132A8C0BE9FF006F55D325F83959644083F3BEDC6DEBFB52796CA4E8380E8DD9F68E0D6B610073C36123124FD4AD71CA\n"
     ]
    }
   ],
   "source": [
    "printFp2(Y1)"
   ]
  },
  {
   "cell_type": "code",
   "execution_count": 8,
   "id": "156f7157",
   "metadata": {},
   "outputs": [
    {
     "name": "stdout",
     "output_type": "stream",
     "text": [
      "0X000000000000000000000000000000000000000000000000000000000000000000000000000000000000000000000000\n",
      "0X05FEEE15C6801965B4E45849BCB453289B88B47B0C7AED4098CF2D5F094F09DBE15400014EAC00004601000000005555\n"
     ]
    }
   ],
   "source": [
    "printFp2(Z1)"
   ]
  },
  {
   "cell_type": "code",
   "execution_count": 9,
   "id": "482107e3",
   "metadata": {},
   "outputs": [
    {
     "name": "stdout",
     "output_type": "stream",
     "text": [
      "0X19D0B2784B3F806AEB699B6D677F4C7AE84F6E5B4F30375DECF3879382DA82182BBA83A3523F33B89CD638848921A3EA\n",
      "0X132A8C0BE9FF006F55D325F83959644083F3BEDC6DEBFB52796CA4E8380E8DD9F68E0D6B610073C36123124FD4AD71CA\n"
     ]
    }
   ],
   "source": [
    "t1 = mulFp2(Y1, Z1)\n",
    "printFp2(t1)"
   ]
  },
  {
   "cell_type": "code",
   "execution_count": 10,
   "id": "ed19670c",
   "metadata": {},
   "outputs": [
    {
     "name": "stdout",
     "output_type": "stream",
     "text": [
      "0X19A053065CFF1A3B8BB78F248BB2EC1E6C279131AADB5BFC72B63C860F040E0C38C90747F32A67717FAD710912439D29\n",
      "0X0C54062D9A7E1A44608AA43A2F671BA9A3703233E852E3E58BA8772F796C258FCE701AD810ACE7870847249FA95B38E9\n"
     ]
    }
   ],
   "source": [
    "s = addFp2(t1, t1)\n",
    "printFp2(s)"
   ]
  },
  {
   "cell_type": "code",
   "execution_count": 11,
   "id": "a9264781",
   "metadata": {},
   "outputs": [
    {
     "name": "stdout",
     "output_type": "stream",
     "text": [
      "0X0AE06E06347D779BB9EF388213012D451AAC02AEC7D9A9533796E42C496AD74F86B0843028497A4C3DE6ECEDC4414923\n",
      "0X0E12F924AFDEE29FB41B41CA5CDA957F61F53C841A93FAAA8C3016253158F5CCCF5C5822DF6C4AF9B7F4A1141AB45A46\n"
     ]
    }
   ],
   "source": [
    "R = mulFp2(Y1, s)\n",
    "printFp2(R)"
   ]
  },
  {
   "cell_type": "code",
   "execution_count": 12,
   "id": "ec5f6d90",
   "metadata": {},
   "outputs": [
    {
     "name": "stdout",
     "output_type": "stream",
     "text": [
      "0X105E2CAC3BE94A181DED0A31E2FAC109105F235438D2F6D8AC9B0E5A060AB2A5EB883E05D7FE49B7A689789D90B99067\n",
      "0X1788F69E78652662CA4BB91362FD1BCAA207FA02643F2776E96A7D3151B564DF6BB0AA04858231B7E2AFF2A509A5B0A8\n"
     ]
    }
   ],
   "source": [
    "t2 = addFp2(X1, R)\n",
    "printFp2(t2)"
   ]
  },
  {
   "cell_type": "code",
   "execution_count": 14,
   "id": "a513256c",
   "metadata": {},
   "outputs": [
    {
     "name": "stdout",
     "output_type": "stream",
     "text": [
      "0X06C7678416432944C0560F4218E3B7600D67F9F16D179C11367914F880EFBFB4130BD36C76CB1B7A3E2BB570731B3DBE\n",
      "0X178605630BC3355FB267E1B996C6D19677666F0EED6FE9BB5E1042AC473258991BE4030EFE771CF93BCC7305B56A6750\n"
     ]
    }
   ],
   "source": [
    "printFp2(t4)"
   ]
  },
  {
   "cell_type": "code",
   "execution_count": 15,
   "id": "b122d8a0",
   "metadata": {},
   "outputs": [
    {
     "name": "stdout",
     "output_type": "stream",
     "text": [
      "0X163D5B28B21841F192AE3F2DB335A9FEECE53CA8E28FC272C4E295127C797C2933E7BC7FFCA482A929E6F76B7A682D99\n",
      "0X0F33C0BD8476D2C5CF3EEBC714F7B6305118388C9B0B3C40B99E8FA9473E9A4692B433B739018056AD72305290885D1F\n"
     ]
    }
   ],
   "source": [
    "printFp2(XX)"
   ]
  },
  {
   "cell_type": "code",
   "execution_count": 16,
   "id": "cfc65339",
   "metadata": {},
   "outputs": [
    {
     "name": "stdout",
     "output_type": "stream",
     "text": [
      "0X09B0DFB696397062324F758418421430B9B5F221B1CDDDC275755C54C9AB34B6F3D8C65287B54659D0581F2165BA8667\n",
      "0X17EAC10AD77429A192F449D122246F792D478F402320A6F42F4B37F45DF36ADE595049DEB803ABF08690FAB44C9C6C12\n"
     ]
    }
   ],
   "source": [
    "printFp2(h)"
   ]
  },
  {
   "cell_type": "code",
   "execution_count": 17,
   "id": "9bf84e3b",
   "metadata": {},
   "outputs": [
    {
     "name": "stdout",
     "output_type": "stream",
     "text": [
      "0X18B7BF7F7C6EA59BEEB729F99046997917B5DC2169F21A46EF796671CEB708DBC34C2802EA4C681C0D5A00FF6A981427\n",
      "0X064FD40722DA0EDF61F2D3B175F9A7B5DAD926338D393F79F0BEA91565C2F639550DA68DA04B489D4F2B6D9D79C223A6\n"
     ]
    }
   ],
   "source": [
    "printFp2(t5)"
   ]
  },
  {
   "cell_type": "code",
   "execution_count": 18,
   "id": "4d1950a9",
   "metadata": {},
   "outputs": [
    {
     "name": "stdout",
     "output_type": "stream",
     "text": [
      "0X0EB5EDA5A348F8A021D36E1C9309A44DFDC11EF0C0A521D9804619F5880A88335E5F3582934587FC09B6E6426F393375\n",
      "0X139A304E53E491B722A11B9EFB9B75B98ED15E20DD9CA202C5AADC5ADF0AD8AF99709B26F9B081044E5790F7B1996CB2\n"
     ]
    }
   ],
   "source": [
    "printFp2(w)"
   ]
  },
  {
   "cell_type": "code",
   "execution_count": 19,
   "id": "d30d566b",
   "metadata": {},
   "outputs": [
    {
     "name": "stdout",
     "output_type": "stream",
     "text": [
      "0X1279A4672AB09D48DA40D6A5231FA72675532DCCD19A7226229457840242022E4923790147F5055299CEEED6F4D0B087\n",
      "0X04666F90CF6DBEF153622FD7E6A3BF893DB92594429165C20C0C4CB197CC3E6906BC676FC0AF00ADA0E560A521110F93\n"
     ]
    }
   ],
   "source": [
    "printFp2(t0)"
   ]
  },
  {
   "cell_type": "code",
   "execution_count": 20,
   "id": "a7265f87",
   "metadata": {},
   "outputs": [
    {
     "name": "stdout",
     "output_type": "stream",
     "text": [
      "0X163D5B28B21841F192AE3F2DB335A9FEECE53CA8E28FC272C4E295127C797C2933E7BC7FFCA482A929E6F76B7A682D99\n",
      "0X0F33C0BD8476D2C5CF3EEBC714F7B6305118388C9B0B3C40B99E8FA9473E9A4692B433B739018056AD72305290885D1F\n"
     ]
    }
   ],
   "source": [
    "printFp2(XX)"
   ]
  },
  {
   "cell_type": "code",
   "execution_count": 21,
   "id": "bed07d5c",
   "metadata": {},
   "outputs": [
    {
     "name": "stdout",
     "output_type": "stream",
     "text": [
      "0X0F06DFC8E6353539BC67B475780485485DFFE9FFB8243C847A040A1D050BD424CF7361B0629721C23D01E1DE04DD8DC0\n",
      "0X086624E684E5CBD81A1A31969720E5141208E2785D9DAB4528A443C1FE80817F1A695CAD999B9CAC829972E92D25623F\n"
     ]
    }
   ],
   "source": [
    "printFp2(t6)"
   ]
  },
  {
   "cell_type": "code",
   "execution_count": 22,
   "id": "fe33782d",
   "metadata": {},
   "outputs": [
    {
     "name": "stdout",
     "output_type": "stream",
     "text": [
      "0X07836FE4731A9A9CDE33DA3ABC0242A42EFFF4FFDC121E423D02050E8285EA1267B9B0D8314B90E11E80F0EF026EC6E0\n",
      "0X11339B685F32D939329AECA66D3648F5BB4016FEA8915F0247EA8B317A98BBD19C8AAE562577CE561E4C397496928675\n"
     ]
    }
   ],
   "source": [
    "printFp2(B)"
   ]
  },
  {
   "cell_type": "code",
   "execution_count": 23,
   "id": "204c1b33",
   "metadata": {},
   "outputs": [
    {
     "name": "stdout",
     "output_type": "stream",
     "text": [
      "0X17D3A218166110D4F7000C6CE70BDB4AD9C14E631DC9533F2EBD7B5AAF8BAB7F928CEA845AEA4A870827D1CD9CB3EB24\n",
      "0X1349EC47C13E9631EAC24A8B8E5D8653F26FD34378F5CACD7FD025DE1356471761E664761EC8226551BA3EC049F5C50E\n"
     ]
    }
   ],
   "source": [
    "printFp2(t7)"
   ]
  },
  {
   "cell_type": "code",
   "execution_count": 24,
   "id": "1b50f46d",
   "metadata": {},
   "outputs": [
    {
     "name": "stdout",
     "output_type": "stream",
     "text": [
      "0X13E0FA9D87F1CED241FD1D87ECB63E7AC0D52170AD5E4F7AB41E2193D09CD2E933F9C438D13CB495951AB26696B7DCE4\n",
      "0X12D07299E99847D60E88ECCEE2163D0842A7672F323298BAE0D064A8D165D4459457CCC7377EC95555D216EAAD958D82\n"
     ]
    }
   ],
   "source": [
    "printFp2(t8)"
   ]
  },
  {
   "cell_type": "code",
   "execution_count": 27,
   "id": "71413fe8",
   "metadata": {},
   "outputs": [
    {
     "name": "stdout",
     "output_type": "stream",
     "text": [
      "0X0B9BC0F26506A42ED8A0402518E45EC56F8C0DC51708CF2B6E249983D9767FFBF2DDF4BE262BAF4F6168D5A925C25584\n",
      "0X187AEFD406A3CBD82C6F3A8D32272D660C269F7E15174BAC52B7281D3CDBD79725D2F109EDF5AA885850331C74A0AC71\n"
     ]
    }
   ],
   "source": [
    "printFp2(X3)"
   ]
  },
  {
   "cell_type": "code",
   "execution_count": 25,
   "id": "d0bfa9aa",
   "metadata": {},
   "outputs": [
    {
     "name": "stdout",
     "output_type": "stream",
     "text": [
      "0X15590B5E41A0B1827DB8B37932F355030405178D8B5353DCC13001BFD3C927A5DD557F10463D9F6355C52963B55EEF28\n",
      "0X062B9EA490778F890EEF02A88EF52BC6CA5AB70EA8758348B484F5B338329AB695A5235585802C0F1AD1A3C86FE5CBCC\n"
     ]
    }
   ],
   "source": [
    "printFp2(Y3)"
   ]
  },
  {
   "cell_type": "code",
   "execution_count": 26,
   "id": "41144f07",
   "metadata": {},
   "outputs": [
    {
     "name": "stdout",
     "output_type": "stream",
     "text": [
      "0X05F7584E9FCF7AA021A78491CC7BE4CE2B79B6E413C9597326EC54FDB021CEA64533D9A2EFD688DC61A933E35DD63195\n",
      "0X0B160FEAB4C276690C1C678A2C6FBF8F20141DB4603710B243A60FF1A0D0106E6C0E897029640D7F90B1F3ED8627467E\n"
     ]
    }
   ],
   "source": [
    "printFp2(Z3)"
   ]
  },
  {
   "cell_type": "code",
   "execution_count": null,
   "id": "4cbb2929",
   "metadata": {},
   "outputs": [],
   "source": []
  }
 ],
 "metadata": {
  "kernelspec": {
   "display_name": "Python 3",
   "language": "python",
   "name": "python3"
  },
  "language_info": {
   "codemirror_mode": {
    "name": "ipython",
    "version": 3
   },
   "file_extension": ".py",
   "mimetype": "text/x-python",
   "name": "python",
   "nbconvert_exporter": "python",
   "pygments_lexer": "ipython3",
   "version": "3.6.8"
  }
 },
 "nbformat": 4,
 "nbformat_minor": 5
}
